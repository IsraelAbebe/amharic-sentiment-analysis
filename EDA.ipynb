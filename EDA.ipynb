{
 "cells": [
  {
   "cell_type": "code",
   "execution_count": 1,
   "metadata": {},
   "outputs": [],
   "source": [
    "import pandas as pd"
   ]
  },
  {
   "cell_type": "markdown",
   "metadata": {},
   "source": [
    "# Data Exploration"
   ]
  },
  {
   "cell_type": "markdown",
   "metadata": {},
   "source": [
    "## Training set"
   ]
  },
  {
   "cell_type": "code",
   "execution_count": 2,
   "metadata": {},
   "outputs": [
    {
     "data": {
      "text/html": [
       "<div>\n",
       "<style scoped>\n",
       "    .dataframe tbody tr th:only-of-type {\n",
       "        vertical-align: middle;\n",
       "    }\n",
       "\n",
       "    .dataframe tbody tr th {\n",
       "        vertical-align: top;\n",
       "    }\n",
       "\n",
       "    .dataframe thead th {\n",
       "        text-align: right;\n",
       "    }\n",
       "</style>\n",
       "<table border=\"1\" class=\"dataframe\">\n",
       "  <thead>\n",
       "    <tr style=\"text-align: right;\">\n",
       "      <th></th>\n",
       "      <th>tweet_id</th>\n",
       "      <th>sentiment</th>\n",
       "    </tr>\n",
       "  </thead>\n",
       "  <tbody>\n",
       "    <tr>\n",
       "      <th>0</th>\n",
       "      <td>1213084822521950209</td>\n",
       "      <td>neutral</td>\n",
       "    </tr>\n",
       "    <tr>\n",
       "      <th>1</th>\n",
       "      <td>1213011490372038656</td>\n",
       "      <td>neutral</td>\n",
       "    </tr>\n",
       "    <tr>\n",
       "      <th>2</th>\n",
       "      <td>1213763702715043840</td>\n",
       "      <td>mixed</td>\n",
       "    </tr>\n",
       "    <tr>\n",
       "      <th>3</th>\n",
       "      <td>1213764224356421633</td>\n",
       "      <td>neutral</td>\n",
       "    </tr>\n",
       "    <tr>\n",
       "      <th>4</th>\n",
       "      <td>1212766574337150976</td>\n",
       "      <td>positive</td>\n",
       "    </tr>\n",
       "  </tbody>\n",
       "</table>\n",
       "</div>"
      ],
      "text/plain": [
       "              tweet_id sentiment\n",
       "0  1213084822521950209   neutral\n",
       "1  1213011490372038656   neutral\n",
       "2  1213763702715043840     mixed\n",
       "3  1213764224356421633   neutral\n",
       "4  1212766574337150976  positive"
      ]
     },
     "execution_count": 2,
     "metadata": {},
     "output_type": "execute_result"
    }
   ],
   "source": [
    "# read file \n",
    "df_train = pd.read_csv('./dataset/train.csv')\n",
    "df_train.head()"
   ]
  },
  {
   "cell_type": "code",
   "execution_count": 3,
   "metadata": {},
   "outputs": [
    {
     "data": {
      "text/plain": [
       "<AxesSubplot:>"
      ]
     },
     "execution_count": 3,
     "metadata": {},
     "output_type": "execute_result"
    },
    {
     "data": {
      "image/png": "[encoded data removed]",
      "text/plain": [
       "<Figure size 432x288 with 1 Axes>"
      ]
     },
     "metadata": {
      "needs_background": "light"
     },
     "output_type": "display_data"
    }
   ],
   "source": [
    "# count the number of neutral mixed and positive sentiments\n",
    "df_train[\"sentiment\"].value_counts().plot.bar()"
   ]
  },
  {
   "cell_type": "markdown",
   "metadata": {},
   "source": [
    "## Testing set"
   ]
  },
  {
   "cell_type": "code",
   "execution_count": 4,
   "metadata": {},
   "outputs": [
    {
     "data": {
      "text/html": [
       "<div>\n",
       "<style scoped>\n",
       "    .dataframe tbody tr th:only-of-type {\n",
       "        vertical-align: middle;\n",
       "    }\n",
       "\n",
       "    .dataframe tbody tr th {\n",
       "        vertical-align: top;\n",
       "    }\n",
       "\n",
       "    .dataframe thead th {\n",
       "        text-align: right;\n",
       "    }\n",
       "</style>\n",
       "<table border=\"1\" class=\"dataframe\">\n",
       "  <thead>\n",
       "    <tr style=\"text-align: right;\">\n",
       "      <th></th>\n",
       "      <th>tweet_id</th>\n",
       "      <th>sentiment</th>\n",
       "    </tr>\n",
       "  </thead>\n",
       "  <tbody>\n",
       "    <tr>\n",
       "      <th>0</th>\n",
       "      <td>1213842050455654402</td>\n",
       "      <td>neutral</td>\n",
       "    </tr>\n",
       "    <tr>\n",
       "      <th>1</th>\n",
       "      <td>1215480766295171072</td>\n",
       "      <td>neutral</td>\n",
       "    </tr>\n",
       "    <tr>\n",
       "      <th>2</th>\n",
       "      <td>1222950264812064768</td>\n",
       "      <td>positive</td>\n",
       "    </tr>\n",
       "    <tr>\n",
       "      <th>3</th>\n",
       "      <td>1213967203076395009</td>\n",
       "      <td>negative</td>\n",
       "    </tr>\n",
       "    <tr>\n",
       "      <th>4</th>\n",
       "      <td>1213961696840171521</td>\n",
       "      <td>neutral</td>\n",
       "    </tr>\n",
       "  </tbody>\n",
       "</table>\n",
       "</div>"
      ],
      "text/plain": [
       "              tweet_id sentiment\n",
       "0  1213842050455654402   neutral\n",
       "1  1215480766295171072   neutral\n",
       "2  1222950264812064768  positive\n",
       "3  1213967203076395009  negative\n",
       "4  1213961696840171521   neutral"
      ]
     },
     "execution_count": 4,
     "metadata": {},
     "output_type": "execute_result"
    }
   ],
   "source": [
    "# read file \n",
    "df_test = pd.read_csv('./dataset/test.csv')\n",
    "df_test.head()"
   ]
  },
  {
   "cell_type": "code",
   "execution_count": 5,
   "metadata": {},
   "outputs": [
    {
     "data": {
      "text/plain": [
       "<AxesSubplot:>"
      ]
     },
     "execution_count": 5,
     "metadata": {},
     "output_type": "execute_result"
    },
    {
     "data": {
      "image/png": "[encoded data removed]",
      "text/plain": [
       "<Figure size 432x288 with 1 Axes>"
      ]
     },
     "metadata": {
      "needs_background": "light"
     },
     "output_type": "display_data"
    }
   ],
   "source": [
    "# count the number of neutral mixed and positive sentiments\n",
    "df_test[\"sentiment\"].value_counts().plot.bar()"
   ]
  },
  {
   "cell_type": "markdown",
   "metadata": {},
   "source": [
    "## Dev/validation set"
   ]
  },
  {
   "cell_type": "code",
   "execution_count": 6,
   "metadata": {},
   "outputs": [
    {
     "data": {
      "text/html": [
       "<div>\n",
       "<style scoped>\n",
       "    .dataframe tbody tr th:only-of-type {\n",
       "        vertical-align: middle;\n",
       "    }\n",
       "\n",
       "    .dataframe tbody tr th {\n",
       "        vertical-align: top;\n",
       "    }\n",
       "\n",
       "    .dataframe thead th {\n",
       "        text-align: right;\n",
       "    }\n",
       "</style>\n",
       "<table border=\"1\" class=\"dataframe\">\n",
       "  <thead>\n",
       "    <tr style=\"text-align: right;\">\n",
       "      <th></th>\n",
       "      <th>tweet_id</th>\n",
       "      <th>sentiment</th>\n",
       "    </tr>\n",
       "  </thead>\n",
       "  <tbody>\n",
       "    <tr>\n",
       "      <th>0</th>\n",
       "      <td>1214005466675777536</td>\n",
       "      <td>neutral</td>\n",
       "    </tr>\n",
       "    <tr>\n",
       "      <th>1</th>\n",
       "      <td>1213261378397409280</td>\n",
       "      <td>mixed</td>\n",
       "    </tr>\n",
       "    <tr>\n",
       "      <th>2</th>\n",
       "      <td>1213846984349626369</td>\n",
       "      <td>neutral</td>\n",
       "    </tr>\n",
       "    <tr>\n",
       "      <th>3</th>\n",
       "      <td>1216365312561635333</td>\n",
       "      <td>positive</td>\n",
       "    </tr>\n",
       "    <tr>\n",
       "      <th>4</th>\n",
       "      <td>1213234381768265728</td>\n",
       "      <td>neutral</td>\n",
       "    </tr>\n",
       "  </tbody>\n",
       "</table>\n",
       "</div>"
      ],
      "text/plain": [
       "              tweet_id sentiment\n",
       "0  1214005466675777536   neutral\n",
       "1  1213261378397409280     mixed\n",
       "2  1213846984349626369   neutral\n",
       "3  1216365312561635333  positive\n",
       "4  1213234381768265728   neutral"
      ]
     },
     "execution_count": 6,
     "metadata": {},
     "output_type": "execute_result"
    }
   ],
   "source": [
    "# read file \n",
    "df_dev = pd.read_csv('./dataset/dev.csv')\n",
    "df_dev.head()"
   ]
  },
  {
   "cell_type": "code",
   "execution_count": 7,
   "metadata": {},
   "outputs": [
    {
     "data": {
      "text/plain": [
       "<AxesSubplot:>"
      ]
     },
     "execution_count": 7,
     "metadata": {},
     "output_type": "execute_result"
    },
    {
     "data": {
      "image/png": "[encoded data removed]",
      "text/plain": [
       "<Figure size 432x288 with 1 Axes>"
      ]
     },
     "metadata": {
      "needs_background": "light"
     },
     "output_type": "display_data"
    }
   ],
   "source": [
    "# count the number of neutral mixed and positive sentiments\n",
    "df_dev[\"sentiment\"].value_counts().plot.bar()"
   ]
  },
  {
   "cell_type": "markdown",
   "metadata": {},
   "source": [
    "# Get summary for each csv file"
   ]
  },
  {
   "cell_type": "code",
   "execution_count": 8,
   "metadata": {},
   "outputs": [
    {
     "data": {
      "text/html": [
       "<div>\n",
       "<style scoped>\n",
       "    .dataframe tbody tr th:only-of-type {\n",
       "        vertical-align: middle;\n",
       "    }\n",
       "\n",
       "    .dataframe tbody tr th {\n",
       "        vertical-align: top;\n",
       "    }\n",
       "\n",
       "    .dataframe thead th {\n",
       "        text-align: right;\n",
       "    }\n",
       "</style>\n",
       "<table border=\"1\" class=\"dataframe\">\n",
       "  <thead>\n",
       "    <tr style=\"text-align: right;\">\n",
       "      <th></th>\n",
       "      <th>tweet_id</th>\n",
       "    </tr>\n",
       "  </thead>\n",
       "  <tbody>\n",
       "    <tr>\n",
       "      <th>count</th>\n",
       "      <td>7.511000e+03</td>\n",
       "    </tr>\n",
       "    <tr>\n",
       "      <th>mean</th>\n",
       "      <td>1.211541e+18</td>\n",
       "    </tr>\n",
       "    <tr>\n",
       "      <th>std</th>\n",
       "      <td>5.158181e+15</td>\n",
       "    </tr>\n",
       "    <tr>\n",
       "      <th>min</th>\n",
       "      <td>1.200913e+18</td>\n",
       "    </tr>\n",
       "    <tr>\n",
       "      <th>25%</th>\n",
       "      <td>1.212290e+18</td>\n",
       "    </tr>\n",
       "    <tr>\n",
       "      <th>50%</th>\n",
       "      <td>1.212968e+18</td>\n",
       "    </tr>\n",
       "    <tr>\n",
       "      <th>75%</th>\n",
       "      <td>1.214013e+18</td>\n",
       "    </tr>\n",
       "    <tr>\n",
       "      <th>max</th>\n",
       "      <td>1.278426e+18</td>\n",
       "    </tr>\n",
       "  </tbody>\n",
       "</table>\n",
       "</div>"
      ],
      "text/plain": [
       "           tweet_id\n",
       "count  7.511000e+03\n",
       "mean   1.211541e+18\n",
       "std    5.158181e+15\n",
       "min    1.200913e+18\n",
       "25%    1.212290e+18\n",
       "50%    1.212968e+18\n",
       "75%    1.214013e+18\n",
       "max    1.278426e+18"
      ]
     },
     "execution_count": 8,
     "metadata": {},
     "output_type": "execute_result"
    }
   ],
   "source": [
    "df_train.describe()"
   ]
  },
  {
   "cell_type": "markdown",
   "metadata": {},
   "source": [
    "### The tweet_id is of type int64 and sentiment is type object"
   ]
  },
  {
   "cell_type": "code",
   "execution_count": 9,
   "metadata": {},
   "outputs": [
    {
     "data": {
      "text/plain": [
       "tweet_id      int64\n",
       "sentiment    object\n",
       "dtype: object"
      ]
     },
     "execution_count": 9,
     "metadata": {},
     "output_type": "execute_result"
    }
   ],
   "source": [
    "df_train.dtypes"
   ]
  },
  {
   "cell_type": "code",
   "execution_count": 10,
   "metadata": {},
   "outputs": [
    {
     "data": {
      "text/plain": [
       "tweet_id        int64\n",
       "sentiment    category\n",
       "dtype: object"
      ]
     },
     "execution_count": 10,
     "metadata": {},
     "output_type": "execute_result"
    }
   ],
   "source": [
    "#convert sentiment column to category type for label encoding\n",
    "df_train[\"sentiment\"] = df_train[\"sentiment\"].astype('category')\n",
    "df_train.dtypes"
   ]
  },
  {
   "cell_type": "code",
   "execution_count": 11,
   "metadata": {},
   "outputs": [
    {
     "data": {
      "text/html": [
       "<div>\n",
       "<style scoped>\n",
       "    .dataframe tbody tr th:only-of-type {\n",
       "        vertical-align: middle;\n",
       "    }\n",
       "\n",
       "    .dataframe tbody tr th {\n",
       "        vertical-align: top;\n",
       "    }\n",
       "\n",
       "    .dataframe thead th {\n",
       "        text-align: right;\n",
       "    }\n",
       "</style>\n",
       "<table border=\"1\" class=\"dataframe\">\n",
       "  <thead>\n",
       "    <tr style=\"text-align: right;\">\n",
       "      <th></th>\n",
       "      <th>tweet_id</th>\n",
       "      <th>sentiment</th>\n",
       "      <th>sentiment_cat</th>\n",
       "    </tr>\n",
       "  </thead>\n",
       "  <tbody>\n",
       "    <tr>\n",
       "      <th>0</th>\n",
       "      <td>1213084822521950209</td>\n",
       "      <td>neutral</td>\n",
       "      <td>2</td>\n",
       "    </tr>\n",
       "    <tr>\n",
       "      <th>1</th>\n",
       "      <td>1213011490372038656</td>\n",
       "      <td>neutral</td>\n",
       "      <td>2</td>\n",
       "    </tr>\n",
       "    <tr>\n",
       "      <th>2</th>\n",
       "      <td>1213763702715043840</td>\n",
       "      <td>mixed</td>\n",
       "      <td>0</td>\n",
       "    </tr>\n",
       "    <tr>\n",
       "      <th>3</th>\n",
       "      <td>1213764224356421633</td>\n",
       "      <td>neutral</td>\n",
       "      <td>2</td>\n",
       "    </tr>\n",
       "    <tr>\n",
       "      <th>4</th>\n",
       "      <td>1212766574337150976</td>\n",
       "      <td>positive</td>\n",
       "      <td>3</td>\n",
       "    </tr>\n",
       "  </tbody>\n",
       "</table>\n",
       "</div>"
      ],
      "text/plain": [
       "              tweet_id sentiment  sentiment_cat\n",
       "0  1213084822521950209   neutral              2\n",
       "1  1213011490372038656   neutral              2\n",
       "2  1213763702715043840     mixed              0\n",
       "3  1213764224356421633   neutral              2\n",
       "4  1212766574337150976  positive              3"
      ]
     },
     "execution_count": 11,
     "metadata": {},
     "output_type": "execute_result"
    }
   ],
   "source": [
    "# use cat.code to encode each variable\n",
    "df_train[\"sentiment_cat\"] = df_train[\"sentiment\"].cat.codes\n",
    "df_train.head()"
   ]
  },
  {
   "cell_type": "code",
   "execution_count": 12,
   "metadata": {},
   "outputs": [
    {
     "data": {
      "text/html": [
       "<div>\n",
       "<style scoped>\n",
       "    .dataframe tbody tr th:only-of-type {\n",
       "        vertical-align: middle;\n",
       "    }\n",
       "\n",
       "    .dataframe tbody tr th {\n",
       "        vertical-align: top;\n",
       "    }\n",
       "\n",
       "    .dataframe thead th {\n",
       "        text-align: right;\n",
       "    }\n",
       "</style>\n",
       "<table border=\"1\" class=\"dataframe\">\n",
       "  <thead>\n",
       "    <tr style=\"text-align: right;\">\n",
       "      <th></th>\n",
       "      <th>tweet_id</th>\n",
       "      <th>sentiment_cat</th>\n",
       "    </tr>\n",
       "  </thead>\n",
       "  <tbody>\n",
       "    <tr>\n",
       "      <th>count</th>\n",
       "      <td>7.511000e+03</td>\n",
       "      <td>7511.000000</td>\n",
       "    </tr>\n",
       "    <tr>\n",
       "      <th>mean</th>\n",
       "      <td>1.211541e+18</td>\n",
       "      <td>1.801491</td>\n",
       "    </tr>\n",
       "    <tr>\n",
       "      <th>std</th>\n",
       "      <td>5.158181e+15</td>\n",
       "      <td>0.857102</td>\n",
       "    </tr>\n",
       "    <tr>\n",
       "      <th>min</th>\n",
       "      <td>1.200913e+18</td>\n",
       "      <td>0.000000</td>\n",
       "    </tr>\n",
       "    <tr>\n",
       "      <th>25%</th>\n",
       "      <td>1.212290e+18</td>\n",
       "      <td>1.000000</td>\n",
       "    </tr>\n",
       "    <tr>\n",
       "      <th>50%</th>\n",
       "      <td>1.212968e+18</td>\n",
       "      <td>2.000000</td>\n",
       "    </tr>\n",
       "    <tr>\n",
       "      <th>75%</th>\n",
       "      <td>1.214013e+18</td>\n",
       "      <td>2.000000</td>\n",
       "    </tr>\n",
       "    <tr>\n",
       "      <th>max</th>\n",
       "      <td>1.278426e+18</td>\n",
       "      <td>3.000000</td>\n",
       "    </tr>\n",
       "  </tbody>\n",
       "</table>\n",
       "</div>"
      ],
      "text/plain": [
       "           tweet_id  sentiment_cat\n",
       "count  7.511000e+03    7511.000000\n",
       "mean   1.211541e+18       1.801491\n",
       "std    5.158181e+15       0.857102\n",
       "min    1.200913e+18       0.000000\n",
       "25%    1.212290e+18       1.000000\n",
       "50%    1.212968e+18       2.000000\n",
       "75%    1.214013e+18       2.000000\n",
       "max    1.278426e+18       3.000000"
      ]
     },
     "execution_count": 12,
     "metadata": {},
     "output_type": "execute_result"
    }
   ],
   "source": [
    "#now do summary on the updated dataframe\n",
    "df_train.describe()"
   ]
  },
  {
   "cell_type": "markdown",
   "metadata": {},
   "source": [
    "## code to extract the tweets for each tweet id"
   ]
  },
  {
   "cell_type": "code",
   "execution_count": 14,
   "metadata": {},
   "outputs": [
    {
     "data": {
      "text/plain": [
       "7511"
      ]
     },
     "execution_count": 14,
     "metadata": {},
     "output_type": "execute_result"
    }
   ],
   "source": [
    "len(df_test)"
   ]
  },
  {
   "cell_type": "code",
   "execution_count": 16,
   "metadata": {},
   "outputs": [
    {
     "name": "stdout",
     "output_type": "stream",
     "text": [
      "b'<!DOCTYPE html>\\n<html dir=\"ltr\" lang=\"en\">\\n<meta charset=\"utf-8\" />\\n<meta name=\"viewport\" content=\"width=device-width,initial-scale=1,maximum-scale=1,user-scalable=0,viewport-fit=cover\" /><link rel=\"preconnect\" href=\"//abs.twimg.com\" /><link rel=\"dns-prefetch\" href=\"//abs.twimg.com\" /><link rel=\"preconnect\" href=\"//api.twitter.com\" /><link rel=\"dns-prefetch\" href=\"//api.twitter.com\" /><link rel=\"preconnect\" href=\"//pbs.twimg.com\" /><link rel=\"dns-prefetch\" href=\"//pbs.twimg.com\" /><link rel=\"preconnect\" href=\"//t.co\" /><link rel=\"dns-prefetch\" href=\"//t.co\" /><link rel=\"preconnect\" href=\"//video.twimg.com\" /><link rel=\"dns-prefetch\" href=\"//video.twimg.com\" /><link rel=\"preload\" as=\"script\" crossorigin=\"anonymous\" href=\"https://abs.twimg.com/responsive-web/client-web-legacy/polyfills.2e934f25.js\" nonce=\"OGQ1ZmRkMzMtOTRmNS00OTQ4LWFkNzktOGZjNjdmZmQ5ZDdj\" /><link rel=\"preload\" as=\"script\" crossorigin=\"anonymous\" href=\"https://abs.twimg.com/responsive-web/client-web-legacy/vendors~main.82025365.js\" nonce=\"OGQ1ZmRkMzMtOTRmNS00OTQ4LWFkNzktOGZjNjdmZmQ5ZDdj\" /><link rel=\"preload\" as=\"script\" crossorigin=\"anonymous\" href=\"https://abs.twimg.com/responsive-web/client-web-legacy/i18n/en.7036be05.js\" nonce=\"OGQ1ZmRkMzMtOTRmNS00OTQ4LWFkNzktOGZjNjdmZmQ5ZDdj\" /><link rel=\"preload\" as=\"script\" crossorigin=\"anonymous\" href=\"https://abs.twimg.com/responsive-web/client-web-legacy/main.ee7ea765.js\" nonce=\"OGQ1ZmRkMzMtOTRmNS00OTQ4LWFkNzktOGZjNjdmZmQ5ZDdj\" /><meta property=\"fb:app_id\" content=\"2231777543\" />\\n<meta property=\"og:site_name\" content=\"Twitter\" /><meta name=\"google-site-verification\" content=\"acYOOcR5z6puMzLn6hLDZI1nNHXPxt57OIstz1vnCV0\" /><meta name=\"facebook-domain-verification\" content=\"x6sdcc8b5ju3bh8nbm59eswogvg6t1\" /><link rel=\"manifest\" href=\"/manifest.json\" crossOrigin=\"use-credentials\" /><link rel=\"alternate\" hreflang=\"x-default\" href=\"https://twitter.com/liyasileshi/status/1212766574337150976\" /><link rel=\"alternate\" hreflang=\"en\" href=\"https://twitter.com/liyasileshi/status/1212766574337150976?lang=en\" /><link rel=\"alternate\" hreflang=\"ar\" href=\"https://twitter.com/liyasileshi/status/1212766574337150976?lang=ar\" /><link rel=\"alternate\" hreflang=\"ar-x-fm\" href=\"https://twitter.com/liyasileshi/status/1212766574337150976?lang=ar-x-fm\" /><link rel=\"alternate\" hreflang=\"bg\" href=\"https://twitter.com/liyasileshi/status/1212766574337150976?lang=bg\" /><link rel=\"alternate\" hreflang=\"bn\" href=\"https://twitter.com/liyasileshi/status/1212766574337150976?lang=bn\" /><link rel=\"alternate\" hreflang=\"ca\" href=\"https://twitter.com/liyasileshi/status/1212766574337150976?lang=ca\" /><link rel=\"alternate\" hreflang=\"cs\" href=\"https://twitter.com/liyasileshi/status/1212766574337150976?lang=cs\" /><link rel=\"alternate\" hreflang=\"da\" href=\"https://twitter.com/liyasileshi/status/1212766574337150976?lang=da\" /><link rel=\"alternate\" hreflang=\"de\" href=\"https://twitter.com/liyasileshi/status/1212766574337150976?lang=de\" /><link rel=\"alternate\" hreflang=\"el\" href=\"https://twitter.com/liyasileshi/status/1212766574337150976?lang=el\" /><link rel=\"alternate\" hreflang=\"en-GB\" href=\"https://twitter.com/liyasileshi/status/1212766574337150976?lang=en-GB\" /><link rel=\"alternate\" hreflang=\"en-ss\" href=\"https://twitter.com/liyasileshi/status/1212766574337150976?lang=en-ss\" /><link rel=\"alternate\" hreflang=\"en-xx\" href=\"https://twitter.com/liyasileshi/status/1212766574337150976?lang=en-xx\" /><link rel=\"alternate\" hreflang=\"es\" href=\"https://twitter.com/liyasileshi/status/1212766574337150976?lang=es\" /><link rel=\"alternate\" hreflang=\"eu\" href=\"https://twitter.com/liyasileshi/status/1212766574337150976?lang=eu\" /><link rel=\"alternate\" hreflang=\"fa\" href=\"https://twitter.com/liyasileshi/status/1212766574337150976?lang=fa\" /><link rel=\"alternate\" hreflang=\"fi\" href=\"https://twitter.com/liyasileshi/status/1212766574337150976?lang=fi\" /><link rel=\"alternate\" hreflang=\"fil\" href=\"https://twitter.com/liyasileshi/status/1212766574337150976?lang=fil\" /><link rel=\"alternate\" hreflang=\"fr\" href=\"https://twitter.com/liyasileshi/status/1212766574337150976?lang=fr\" /><link rel=\"alternate\" hreflang=\"ga\" href=\"https://twitter.com/liyasileshi/status/1212766574337150976?lang=ga\" /><link rel=\"alternate\" hreflang=\"gl\" href=\"https://twitter.com/liyasileshi/status/1212766574337150976?lang=gl\" /><link rel=\"alternate\" hreflang=\"gu\" href=\"https://twitter.com/liyasileshi/status/1212766574337150976?lang=gu\" /><link rel=\"alternate\" hreflang=\"he\" href=\"https://twitter.com/liyasileshi/status/1212766574337150976?lang=he\" /><link rel=\"alternate\" hreflang=\"hi\" href=\"https://twitter.com/liyasileshi/status/1212766574337150976?lang=hi\" /><link rel=\"alternate\" hreflang=\"hr\" href=\"https://twitter.com/liyasileshi/status/1212766574337150976?lang=hr\" /><link rel=\"alternate\" hreflang=\"hu\" href=\"https://twitter.com/liyasileshi/status/1212766574337150976?lang=hu\" /><link rel=\"alternate\" hreflang=\"id\" href=\"https://twitter.com/liyasileshi/status/1212766574337150976?lang=id\" /><link rel=\"alternate\" hreflang=\"it\" href=\"https://twitter.com/liyasileshi/status/1212766574337150976?lang=it\" /><link rel=\"alternate\" hreflang=\"ja\" href=\"https://twitter.com/liyasileshi/status/1212766574337150976?lang=ja\" /><link rel=\"alternate\" hreflang=\"kn\" href=\"https://twitter.com/liyasileshi/status/1212766574337150976?lang=kn\" /><link rel=\"alternate\" hreflang=\"ko\" href=\"https://twitter.com/liyasileshi/status/1212766574337150976?lang=ko\" /><link rel=\"alternate\" hreflang=\"mr\" href=\"https://twitter.com/liyasileshi/status/1212766574337150976?lang=mr\" /><link rel=\"alternate\" hreflang=\"ms\" href=\"https://twitter.com/liyasileshi/status/1212766574337150976?lang=ms\" /><link rel=\"alternate\" hreflang=\"nb\" href=\"https://twitter.com/liyasileshi/status/1212766574337150976?lang=nb\" /><link rel=\"alternate\" hreflang=\"nl\" href=\"https://twitter.com/liyasileshi/status/1212766574337150976?lang=nl\" /><link rel=\"alternate\" hreflang=\"pl\" href=\"https://twitter.com/liyasileshi/status/1212766574337150976?lang=pl\" /><link rel=\"alternate\" hreflang=\"pt\" href=\"https://twitter.com/liyasileshi/status/1212766574337150976?lang=pt\" /><link rel=\"alternate\" hreflang=\"ro\" href=\"https://twitter.com/liyasileshi/status/1212766574337150976?lang=ro\" /><link rel=\"alternate\" hreflang=\"ru\" href=\"https://twitter.com/liyasileshi/status/1212766574337150976?lang=ru\" /><link rel=\"alternate\" hreflang=\"sk\" href=\"https://twitter.com/liyasileshi/status/1212766574337150976?lang=sk\" /><link rel=\"alternate\" hreflang=\"sr\" href=\"https://twitter.com/liyasileshi/status/1212766574337150976?lang=sr\" /><link rel=\"alternate\" hreflang=\"sv\" href=\"https://twitter.com/liyasileshi/status/1212766574337150976?lang=sv\" /><link rel=\"alternate\" hreflang=\"ta\" href=\"https://twitter.com/liyasileshi/status/1212766574337150976?lang=ta\" /><link rel=\"alternate\" hreflang=\"th\" href=\"https://twitter.com/liyasileshi/status/1212766574337150976?lang=th\" /><link rel=\"alternate\" hreflang=\"tr\" href=\"https://twitter.com/liyasileshi/status/1212766574337150976?lang=tr\" /><link rel=\"alternate\" hreflang=\"uk\" href=\"https://twitter.com/liyasileshi/status/1212766574337150976?lang=uk\" /><link rel=\"alternate\" hreflang=\"ur\" href=\"https://twitter.com/liyasileshi/status/1212766574337150976?lang=ur\" /><link rel=\"alternate\" hreflang=\"vi\" href=\"https://twitter.com/liyasileshi/status/1212766574337150976?lang=vi\" /><link rel=\"alternate\" hreflang=\"zh\" href=\"https://twitter.com/liyasileshi/status/1212766574337150976?lang=zh\" /><link rel=\"alternate\" hreflang=\"zh-Hant\" href=\"https://twitter.com/liyasileshi/status/1212766574337150976?lang=zh-Hant\" /><link rel=\"canonical\" href=\"https://twitter.com/liyasileshi/status/1212766574337150976\" /><link rel=\"search\" type=\"application/opensearchdescription+xml\" href=\"/opensearch.xml\" title=\"Twitter\"><link rel=\"mask-icon\" sizes=\"any\" href=\"https://abs.twimg.com/responsive-web/client-web-legacy/icon-svg.168b89d5.svg\" color=\"#1da1f2\"><link rel=\"shortcut icon\" href=\"//abs.twimg.com/favicons/twitter.ico\" type=\"image/x-icon\"><link rel=\"apple-touch-icon\" sizes=\"192x192\" href=\"https://abs.twimg.com/responsive-web/client-web-legacy/icon-ios.b1fc7275.png\" /><meta name=\"mobile-web-app-capable\" content=\"yes\" />\\n<meta name=\"apple-mobile-web-app-title\" content=\"Twitter\" />\\n<meta name=\"apple-mobile-web-app-status-bar-style\" content=\"white\" />\\n<meta name=\"theme-color\" content=\"#ffffff\" />\\n<meta http-equiv=\"origin-trial\" content=\"Apir4chqTX+4eFxKD+ErQlKRB/VtZ/dvnLfd9Y9Nenl5r1xJcf81alryTHYQiuUlz9Q49MqGXqyaiSmqWzHUqQwAAABneyJvcmlnaW4iOiJodHRwczovL3R3aXR0ZXIuY29tOjQ0MyIsImZlYXR1cmUiOiJDb250YWN0c01hbmFnZXIiLCJleHBpcnkiOjE1NzUwMzUyODMsImlzU3ViZG9tYWluIjp0cnVlfQ==\" /><style>html,body{height: 100%;}</style><style id=\"react-native-stylesheet\">[stylesheet-group=\"0\"]{}\\nhtml{-ms-text-size-adjust:100%;-webkit-text-size-adjust:100%;-webkit-tap-highlight-color:rgba(0,0,0,0);}\\nbody{margin:0;}\\nbutton::-moz-focus-inner,input::-moz-focus-inner{border:0;padding:0;}\\ninput::-webkit-inner-spin-button,input::-webkit-outer-spin-button,input::-webkit-search-cancel-button,input::-webkit-search-decoration,input::-webkit-search-results-button,input::-webkit-search-results-decoration{display:none;}\\n[stylesheet-group=\"0.1\"]{}\\n:focus:not([data-focusvisible-polyfill]){outline: none;}\\n[stylesheet-group=\"1\"]{}\\n.css-1dbjc4n{-ms-flex-align:stretch;-ms-flex-direction:column;-ms-flex-negative:0;-ms-flex-preferred-size:auto;-webkit-align-items:stretch;-webkit-box-align:stretch;-webkit-box-direction:normal;-webkit-box-orient:vertical;-webkit-flex-basis:auto;-webkit-flex-direction:column;-webkit-flex-shrink:0;align-items:stretch;border:0 solid black;box-sizing:border-box;display:-webkit-box;display:-moz-box;display:-ms-flexbox;display:-webkit-flex;display:flex;flex-basis:auto;flex-direction:column;flex-shrink:0;margin-bottom:0px;margin-left:0px;margin-right:0px;margin-top:0px;min-height:0px;min-width:0px;padding-bottom:0px;padding-left:0px;padding-right:0px;padding-top:0px;position:relative;z-index:0;}\\n.css-901oao{border:0 solid black;box-sizing:border-box;color:rgba(0,0,0,1.00);display:inline;font:14px -apple-system,BlinkMacSystemFont,\"Segoe UI\",Roboto,Helvetica,Arial,sans-serif;margin-bottom:0px;margin-left:0px;margin-right:0px;margin-top:0px;padding-bottom:0px;padding-left:0px;padding-right:0px;padding-top:0px;white-space:pre-wrap;word-wrap:break-word;}\\n.css-16my406{color:inherit;font:inherit;white-space:inherit;}\\n[stylesheet-group=\"2\"]{}\\n.r-13awgt0{-ms-flex:1 1 0%;-webkit-flex:1;flex:1;}\\n.r-4qtqp9{display:inline-block;}\\n.r-ywje51{margin-bottom:auto;margin-left:auto;margin-right:auto;margin-top:auto;}\\n.r-hvic4v{display:none;}\\n.r-1adg3ll{display:block;}\\n[stylesheet-group=\"2.2\"]{}\\n.r-12vffkv>*{pointer-events:auto;}\\n.r-12vffkv{pointer-events:none!important;}\\n.r-14lw9ot{background-color:rgba(255,255,255,1.00);}\\n.r-1p0dtai{bottom:0px;}\\n.r-1d2f490{left:0px;}\\n.r-1xcajam{position:fixed;}\\n.r-zchlnj{right:0px;}\\n.r-ipm5af{top:0px;}\\n.r-yyyyoo{fill:currentcolor;}\\n.r-1xvli5t{height:1.25em;}\\n.r-dnmrzs{max-width:100%;}\\n.r-bnwqim{position:relative;}\\n.r-1plcrui{vertical-align:text-bottom;}\\n.r-lrvibr{-moz-user-select:none;-ms-user-select:none;-webkit-user-select:none;user-select:none;}\\n.r-13gxpu9{color:rgba(29,161,242,1.00);}\\n.r-wy61xf{height:72px;}\\n.r-u8s1d{position:absolute;}\\n.r-1blnp2b{width:72px;}\\n.r-1ykxob0{top:60%;}\\n.r-1b2b6em{line-height:2em;}\\n.r-q4m81j{text-align:center;}</style><body style=\"background-color: #FFFFFF;\">\\n  <noscript>\\n    <style>\\n    body {\\n      -ms-overflow-style: scrollbar;\\n      overflow-y: scroll;\\n      overscroll-behavior-y: none;\\n    }\\n\\n    .errorContainer {\\n      background-color: #FFF;\\n      color: #0F1419;\\n      max-width: 600px;\\n      margin: 0 auto;\\n      padding: 10%;\\n      font-family: Helvetica, sans-serif;\\n      font-size: 16px;\\n    }\\n\\n    .errorButton {\\n      margin: 3em 0;\\n    }\\n\\n    .errorButton a {\\n      background: #1DA1F2;\\n      border-radius: 2.5em;\\n      color: white;\\n      padding: 1em 2em;\\n      text-decoration: none;\\n    }\\n\\n    .errorButton a:hover,\\n    .errorButton a:focus {\\n      background: rgb(26, 145, 218);\\n    }\\n\\n    .errorFooter {\\n      color: #657786;\\n      font-size: 80%;\\n      line-height: 1.5;\\n      padding: 1em 0;\\n    }\\n\\n    .errorFooter a,\\n    .errorFooter a:visited {\\n      color: #657786;\\n      text-decoration: none;\\n      padding-right: 1em;\\n    }\\n\\n    .errorFooter a:hover,\\n    .errorFooter a:active {\\n      text-decoration: underline;\\n    }\\n\\n      #placeholder,\\n      #react-root {\\n        display: none !important;\\n      }\\n      body {\\n        background-color: #FFF !important;\\n      }\\n    </style>\\n    <div class=\"errorContainer\">\\n      <img width=\"46\" height=\"38\" srcset=\"https://abs.twimg.com/errors/logo46x38.png 1x, https://abs.twimg.com/errors/logo46x38@2x.png 2x\" src=\"https://abs.twimg.com/errors/logo46x38.png\" alt=\"Twitter\" />\\n      <h1>JavaScript is not available.</h1>\\n      <p>We\\xe2\\x80\\x99ve detected that JavaScript is disabled in this browser. Please enable JavaScript or switch to a supported browser to continue using twitter.com. You can see a list of supported browsers in our Help Center.</p>\\n      <p class=\"errorButton\"><a href=\"https://help.twitter.com/using-twitter/twitter-supported-browsers\">Help Center</a></p>\\n    <p class=\"errorFooter\">\\n      <a href=\"https://twitter.com/tos\">Terms of Service</a>\\n      <a href=\"https://twitter.com/privacy\">Privacy Policy</a>\\n      <a href=\"https://support.twitter.com/articles/20170514\">Cookie Policy</a>\\n      <a href=\"https://legal.twitter.com/imprint\">Imprint</a>\\n      <a href=\"https://business.twitter.com/en/help/troubleshooting/how-twitter-ads-work.html\">Ads info</a>\\n      \\xc2\\xa9 2021 Twitter, Inc.\\n    </p>\\n\\n    </div>\\n  </noscript><div id=\"react-root\" style=\"height:100%;display:flex;\"><div class=\"css-1dbjc4n r-13awgt0 r-12vffkv\"><div class=\"css-1dbjc4n r-13awgt0 r-12vffkv\"><style>\\n@media (prefers-color-scheme: dark) {\\n  #placeholder {\\n    background-color: #000000\\n  }\\n}\\n</style><div aria-label=\"Loading\\xe2\\x80\\xa6\" class=\"css-1dbjc4n r-14lw9ot r-1p0dtai r-1d2f490 r-1xcajam r-zchlnj r-ipm5af\" id=\"placeholder\"><svg viewBox=\"0 0 24 24\" class=\"r-1p0dtai r-13gxpu9 r-4qtqp9 r-yyyyoo r-wy61xf r-1d2f490 r-ywje51 r-dnmrzs r-u8s1d r-zchlnj r-1plcrui r-ipm5af r-lrvibr r-1blnp2b\"><g><path d=\"M23.643 4.937c-.835.37-1.732.62-2.675.733.962-.576 1.7-1.49 2.048-2.578-.9.534-1.897.922-2.958 1.13-.85-.904-2.06-1.47-3.4-1.47-2.572 0-4.658 2.086-4.658 4.66 0 .364.042.718.12 1.06-3.873-.195-7.304-2.05-9.602-4.868-.4.69-.63 1.49-.63 2.342 0 1.616.823 3.043 2.072 3.878-.764-.025-1.482-.234-2.11-.583v.06c0 2.257 1.605 4.14 3.737 4.568-.392.106-.803.162-1.227.162-.3 0-.593-.028-.877-.082.593 1.85 2.313 3.198 4.352 3.234-1.595 1.25-3.604 1.995-5.786 1.995-.376 0-.747-.022-1.112-.065 2.062 1.323 4.51 2.093 7.14 2.093 8.57 0 13.255-7.098 13.255-13.254 0-.2-.005-.402-.014-.602.91-.658 1.7-1.477 2.323-2.41z\"></path></g></svg></div><div class=\"css-1dbjc4n r-hvic4v r-1d2f490 r-1xcajam r-zchlnj r-1ykxob0\" id=\"ScriptLoadFailure\"><form action=\"\" method=\"GET\"><div dir=\"auto\" class=\"css-901oao r-1adg3ll r-1b2b6em r-q4m81j\"><span class=\"css-901oao css-16my406\">Something went wrong, but don\\xe2\\x80\\x99t fret \\xe2\\x80\\x94 let\\xe2\\x80\\x99s give it another shot.</span><br/><input type=\"hidden\" name=\"failedScript\" value=\"\"/><input type=\"submit\" value=\"Try again\"/></div></form></div></div></div></div><script type=\"text/javascript\" charset=\"utf-8\" nonce=\"OGQ1ZmRkMzMtOTRmNS00OTQ4LWFkNzktOGZjNjdmZmQ5ZDdj\">window.__INITIAL_STATE__={\"optimist\":[],\"urt\":{},\"toasts\":[],\"entities\":{\"users\":{\"entities\":{},\"errors\":{},\"fetchStatus\":{}},\"tweets\":{\"entities\":{},\"errors\":{},\"fetchStatus\":{}},\"cards\":{\"entities\":{},\"errors\":{},\"fetchStatus\":{}}},\"featureSwitch\":{\"debug\":{},\"defaultConfig\":{\"2fa_multikey_management_enabled\":{\"value\":true},\"account_country_setting_countries_whitelist\":{\"value\":[\"ad\",\"ae\",\"af\",\"ag\",\"ai\",\"al\",\"am\",\"ao\",\"ar\",\"as\",\"at\",\"au\",\"aw\",\"ax\",\"az\",\"ba\",\"bb\",\"bd\",\"be\",\"bf\",\"bg\",\"bh\",\"bi\",\"bj\",\"bl\",\"bm\",\"bn\",\"bo\",\"bq\",\"br\",\"bs\",\"bt\",\"bv\",\"bw\",\"by\",\"bz\",\"ca\",\"cc\",\"cd\",\"cf\",\"cg\",\"ch\",\"ci\",\"ck\",\"cl\",\"cm\",\"co\",\"cr\",\"cu\",\"cv\",\"cw\",\"cx\",\"cy\",\"cz\",\"de\",\"dj\",\"dk\",\"dm\",\"do\",\"dz\",\"ec\",\"ee\",\"eg\",\"er\",\"es\",\"et\",\"fi\",\"fj\",\"fk\",\"fm\",\"fo\",\"fr\",\"ga\",\"gb\",\"gd\",\"ge\",\"gf\",\"gg\",\"gh\",\"gi\",\"gl\",\"gm\",\"gn\",\"gp\",\"gq\",\"gr\",\"gs\",\"gt\",\"gu\",\"gw\",\"gy\",\"hk\",\"hn\",\"hr\",\"ht\",\"hu\",\"id\",\"ie\",\"il\",\"im\",\"in\",\"io\",\"iq\",\"ir\",\"is\",\"it\",\"je\",\"jm\",\"jo\",\"jp\",\"ke\",\"kg\",\"kh\",\"ki\",\"km\",\"kn\",\"kr\",\"kw\",\"ky\",\"kz\",\"la\",\"lb\",\"lc\",\"li\",\"lk\",\"lr\",\"ls\",\"lt\",\"lu\",\"lv\",\"ly\",\"ma\",\"mc\",\"md\",\"me\",\"mf\",\"mg\",\"mh\",\"mk\",\"ml\",\"mn\",\"mo\",\"mp\",\"mq\",\"mr\",\"ms\",\"mt\",\"mu\",\"mv\",\"mw\",\"mx\",\"my\",\"mz\",\"na\",\"nc\",\"ne\",\"nf\",\"ng\",\"ni\",\"nl\",\"no\",\"np\",\"nr\",\"nu\",\"nz\",\"om\",\"pa\",\"pe\",\"pf\",\"pg\",\"ph\",\"pk\",\"pl\",\"pm\",\"pn\",\"pr\",\"ps\",\"pt\",\"pw\",\"py\",\"qa\",\"re\",\"ro\",\"rs\",\"ru\",\"rw\",\"sa\",\"sb\",\"sc\",\"se\",\"sg\",\"sh\",\"si\",\"sk\",\"sl\",\"sm\",\"sn\",\"so\",\"sr\",\"st\",\"sv\",\"sx\",\"sz\",\"tc\",\"td\",\"tf\",\"tg\",\"th\",\"tj\",\"tk\",\"tl\",\"tm\",\"tn\",\"to\",\"tr\",\"tt\",\"tv\",\"tw\",\"tz\",\"ua\",\"ug\",\"us\",\"uy\",\"uz\",\"va\",\"vc\",\"ve\",\"vi\",\"vn\",\"vu\",\"wf\",\"ws\",\"xk\",\"ye\",\"yt\",\"za\",\"zm\",\"zw\"]},\"account_session_console_from_graphql_enabled\":{\"value\":false},\"author_moderated_replies_urt_container_enabled\":{\"value\":false},\"business_profiles_rweb_onboarding_enabled\":{\"value\":false},\"c9s_enabled\":{\"value\":false},\"content_language_setting_enabled\":{\"value\":true},\"conversation_controls_flexible_participation_enabled\":{\"value\":false},\"conversation_controls_flexible_participation_reply_enabled\":{\"value\":true},\"conversation_controls_limited_replies_consumption_configuration\":{\"value\":\"no_reply\"},\"conversation_controls_limited_replies_creation_enabled\":{\"value\":true},\"conversation_controls_my_followers_enabled\":{\"value\":false},\"conversation_controls_notifying_participants_enabled\":{\"value\":true},\"dm_conversations_muted_list_enabled\":{\"value\":false},\"dm_conversations_muting_enabled\":{\"value\":false},\"dm_conversations_nsfw_media_filter_enabled\":{\"value\":false},\"dm_conversations_requests_inbox_actions_button_enabled\":{\"value\":false},\"dm_inbox_search_max_recent_searches_stored\":{\"value\":5},\"dm_reactions_config_active_reactions\":{\"value\":[\"\\xf0\\x9f\\x98\\x82:funny\",\"\\xf0\\x9f\\x98\\xb2:surprised\",\"\\xf0\\x9f\\x98\\xa2:sad\",\"\\xe2\\x9d\\xa4\\xef\\xb8\\x8f:like\",\"\\xf0\\x9f\\x94\\xa5:excited\",\"\\xf0\\x9f\\x91\\x8d:agree\",\"\\xf0\\x9f\\x91\\x8e:disagree\"]},\"dm_reactions_config_inactive_reactions\":{\"value\":[\"\\xf0\\x9f\\x98\\xa0:angry\",\"\\xf0\\x9f\\x98\\xb7:mask\"]},\"dm_voice_rendering_enabled\":{\"value\":true},\"employee_role\":{\"value\":false},\"enable_label_appealing_misinfo_enabled\":{\"value\":false},\"enable_label_appealing_sensitive_content_enabled\":{\"value\":false},\"explore_settings_trends_policy_url\":{\"value\":\"\"},\"graphql_mutation_favorite_mode\":{\"value\":\"rest_only\"},\"graphql_mutation_retweet_mode\":{\"value\":\"rest_only\"},\"graphql_mutation_unfavorite_mode\":{\"value\":\"rest_only\"},\"graphql_mutation_unretweet_mode\":{\"value\":\"rest_only\"},\"graphql_mutation_update_mode\":{\"value\":\"rest_only\"},\"guest_broadcasting_timeline_decorations_enabled\":{\"value\":true},\"hashflags_animation_like_button_enabled\":{\"value\":true},\"home_timeline_latest_timeline_autoswitch_half_life_minutes\":{\"value\":43200},\"home_timeline_latest_timeline_autoswitch_threshold_multiplier\":{\"value\":2},\"home_timeline_latest_timeline_max_time_to_autoswitch_minutes\":{\"value\":5256000},\"home_timeline_latest_timeline_min_time_to_autoswitch_minutes\":{\"value\":5256000},\"home_timeline_latest_timeline_switch_enabled\":{\"value\":true},\"home_timeline_latest_timeline_threshold_to_increase_autoswitch_seconds\":{\"value\":60},\"home_timeline_spheres_custom_banner_image_reads_enabled\":{\"value\":true},\"home_timeline_spheres_detail_page_muting_enabled\":{\"value\":true},\"home_timeline_spheres_list_cell_thumbnail_enabled\":{\"value\":true},\"home_timeline_spheres_max_user_owned_or_subscribed_lists_count\":{\"value\":5},\"home_timeline_spheres_ranking_mode_control_enabled\":{\"value\":true},\"identity_verification_debadging_notification_enabled\":{\"value\":true},\"identity_verification_educational_prompt_enabled\":{\"value\":true},\"identity_verification_intake_enabled\":{\"value\":false},\"list_management_page_urt_timeline_enabled\":{\"value\":true},\"live_event_docking_enabled\":{\"value\":true},\"live_event_multi_video_auto_advance_dock_enabled\":{\"value\":true},\"live_event_multi_video_auto_advance_enabled\":{\"value\":true},\"live_event_multi_video_auto_advance_fullscreen_enabled\":{\"value\":false},\"live_event_multi_video_auto_advance_transition_duration_seconds\":{\"value\":5},\"live_event_multi_video_enabled\":{\"value\":true},\"live_event_timeline_default_refresh_rate_interval_seconds\":{\"value\":30},\"live_event_timeline_minimum_refresh_rate_interval_seconds\":{\"value\":10},\"live_event_timeline_server_controlled_refresh_rate_enabled\":{\"value\":true},\"livepipeline_client_enabled\":{\"value\":true},\"livepipeline_dm_features_enabled\":{\"value\":true},\"livepipeline_tweetengagement_enabled\":{\"value\":true},\"moment_annotations_enabled\":{\"value\":true},\"network_layer_503_backoff_mode\":{\"value\":\"host\"},\"responsive_web_account_ownership_verification_enabled\":{\"value\":false},\"responsive_web_add_impression_id_to_mute_engagement_enabled\":{\"value\":true},\"responsive_web_alt_svc\":{\"value\":false},\"responsive_web_alt_text_badge_enabled\":{\"value\":false},\"responsive_web_api_transition_enabled\":{\"value\":true},\"responsive_web_article_nudge_enabled\":{\"value\":true},\"responsive_web_auto_logout_multiaccount_enabled\":{\"value\":true},\"responsive_web_auto_logout_restrictedauthtoken_enabled\":{\"value\":true},\"responsive_web_auto_logout_twid_enabled\":{\"value\":true},\"responsive_web_better_stateful_buttons_variant\":{\"value\":\"control\"},\"responsive_web_birdwatch_consumption_enabled\":{\"value\":false},\"responsive_web_birdwatch_contribution_enabled\":{\"value\":false},\"responsive_web_birdwatch_hcomp_user\":{\"value\":false},\"responsive_web_birdwatch_pivots_enabled\":{\"value\":false},\"responsive_web_birdwatch_site_enabled\":{\"value\":true},\"responsive_web_birdwatch_traffic_lights_enabled\":{\"value\":true},\"responsive_web_branch_cpid_enabled\":{\"value\":false},\"responsive_web_branch_sdk_enabled\":{\"value\":true},\"responsive_web_card_preload_mode\":{\"value\":false},\"responsive_web_carousel_v2_communities_enabled\":{\"value\":true},\"responsive_web_carousels_convert_to_single_media\":{\"value\":false},\"responsive_web_chirp_font_enabled\":{\"value\":false},\"responsive_web_cleanup_macaw_swift_indexed_db\":{\"value\":true},\"responsive_web_continue_as_always_enabled\":{\"value\":false},\"responsive_web_continue_as_param_enabled\":{\"value\":true},\"responsive_web_csrf_clientside_enabled\":{\"value\":true},\"responsive_web_dcm_2_enabled\":{\"value\":true},\"responsive_web_dm_quick_access_with_close_enabled\":{\"value\":false},\"responsive_web_dm_server_side_search\":{\"value\":false},\"responsive_web_eu_compliance_double_click_disabled\":{\"value\":false},\"responsive_web_eu_compliance_ga_disabled\":{\"value\":false},\"responsive_web_eu_compliance_player_card_disabled\":{\"value\":false},\"responsive_web_eu_compliance_sentry_disabled\":{\"value\":false},\"responsive_web_eu_countries\":{\"value\":[\"at\",\"be\",\"bg\",\"ch\",\"cy\",\"cz\",\"de\",\"dk\",\"ee\",\"es\",\"fi\",\"fr\",\"gb\",\"gr\",\"hr\",\"hu\",\"ie\",\"is\",\"it\",\"li\",\"lt\",\"lu\",\"lv\",\"mt\",\"nl\",\"no\",\"pl\",\"pt\",\"ro\",\"se\",\"si\",\"sk\"]},\"responsive_web_extension_compatibility_hide\":{\"value\":false},\"responsive_web_extension_compatibility_impression_guard\":{\"value\":true},\"responsive_web_extension_compatibility_override_param\":{\"value\":false},\"responsive_web_extension_compatibility_scribe\":{\"value\":true},\"responsive_web_extension_compatibility_size_threshold\":{\"value\":50},\"responsive_web_fake_root_twitter_domain_for_testing\":{\"value\":false},\"responsive_web_fetch_hashflags_on_boot\":{\"value\":false},\"responsive_web_fleets_bounding_boxes_enabled\":{\"value\":false},\"responsive_web_fleets_dm_consumption_enabled\":{\"value\":true},\"responsive_web_fleets_notification_screen_enabled\":{\"value\":false},\"responsive_web_fleets_viewer_screen_enabled\":{\"value\":true},\"responsive_web_fleets_viewer_threading_enabled\":{\"value\":false},\"responsive_web_framerate_tracking_home_enabled\":{\"value\":false},\"responsive_web_graphql_amr_timeline\":{\"value\":false},\"responsive_web_graphql_bookmarks\":{\"value\":true},\"responsive_web_graphql_conversations_enabled\":{\"value\":false},\"responsive_web_graphql_dark_reads_probability\":{\"value\":0},\"responsive_web_graphql_feedback\":{\"value\":true},\"responsive_web_graphql_home_enabled\":{\"value\":false},\"responsive_web_graphql_likes_timeline\":{\"value\":false},\"responsive_web_graphql_list_management_timelines_enabled\":{\"value\":false},\"responsive_web_graphql_media_timeline\":{\"value\":false},\"responsive_web_graphql_mutation_bookmarks\":{\"value\":true},\"responsive_web_graphql_non_legacy_card\":{\"value\":true},\"responsive_web_graphql_profile_timeline\":{\"value\":false},\"responsive_web_graphql_redux_module_users\":{\"value\":false},\"responsive_web_graphql_topic_timeline_enabled\":{\"value\":true},\"responsive_web_graphql_tweet_by_rest_id\":{\"value\":false},\"responsive_web_graphql_tweet_results\":{\"value\":false},\"responsive_web_graphql_user_profile_screen\":{\"value\":false},\"responsive_web_graphql_user_results\":{\"value\":false},\"responsive_web_graphql_users_by_rest_ids\":{\"value\":true},\"responsive_web_hoisting_anchor_invalidation_enabled\":{\"value\":false},\"responsive_web_hover_on_mousemove_enabled\":{\"value\":false},\"responsive_web_inline_login_box_enabled\":{\"value\":\"full\"},\"responsive_web_inline_reply_enabled\":{\"value\":false},\"responsive_web_inline_reply_with_fab_enabled\":{\"value\":false},\"responsive_web_install_banner_show_immediate\":{\"value\":false},\"responsive_web_instream_video_redesign_enabled\":{\"value\":true},\"responsive_web_instream_video_store_keyed\":{\"value\":false},\"responsive_web_left_nav_refresh_connect_enabled\":{\"value\":false},\"responsive_web_left_nav_refresh_topics_enabled\":{\"value\":false},\"responsive_web_linger_refactor_enabled\":{\"value\":false},\"responsive_web_list_hover_cards_enabled\":{\"value\":false},\"responsive_web_live_video_parity_periscope_auth_enabled\":{\"value\":false},\"responsive_web_login_input_type_email_enabled\":{\"value\":false},\"responsive_web_login_signup_sheet_app_install_cta_enabled\":{\"value\":true},\"responsive_web_lohp_refresh_enabled\":{\"value\":false},\"responsive_web_media_upload_limit_2g\":{\"value\":250},\"responsive_web_media_upload_limit_3g\":{\"value\":1500},\"responsive_web_media_upload_limit_slow_2g\":{\"value\":150},\"responsive_web_media_upload_md5_hashing_enabled\":{\"value\":false},\"responsive_web_media_upload_target_jpg_pixels_per_byte\":{\"value\":6},\"responsive_web_menu_section_divider_enabled\":{\"value\":false},\"responsive_web_modal_close_enabled\":{\"value\":true},\"responsive_web_moment_maker_annotations_enabled\":{\"value\":false},\"responsive_web_moment_maker_enabled\":{\"value\":false},\"responsive_web_moment_maker_promoted_tweets_enabled\":{\"value\":false},\"responsive_web_multiple_account_limit\":{\"value\":5},\"responsive_web_nav_visual_refresh_enabled\":{\"value\":false},\"responsive_web_new_client_events_enabled\":{\"value\":false},\"responsive_web_new_copy_security_key_2fa_enabled\":{\"value\":true},\"responsive_web_newsletters_callout_enabled\":{\"value\":true},\"responsive_web_newsletters_menu_enabled\":{\"value\":true},\"responsive_web_ntab_verified_mentions_vit_internal_dogfood\":{\"value\":false},\"responsive_web_oauth2_consent_flow_enabled\":{\"value\":false},\"responsive_web_ocf_lite_login_flow_enabled\":{\"value\":false},\"responsive_web_ocf_sms_autoverify_darkwrite\":{\"value\":false},\"responsive_web_ocf_sms_autoverify_enabled\":{\"value\":false},\"responsive_web_open_in_app_prompt_enabled\":{\"value\":false},\"responsive_web_prerolls_fullscreen_disabled_on_ios\":{\"value\":false},\"responsive_web_promoted_tweet_param_append_enabled\":{\"value\":true},\"responsive_web_promoted_tweet_url_rewrite_enabled\":{\"value\":false},\"responsive_web_quick_promote_enabled\":{\"value\":true},\"responsive_web_report_page_not_found\":{\"value\":false},\"responsive_web_rich_tweet_landing_enabled\":{\"value\":true},\"responsive_web_scroller_autopoll_enabled\":{\"value\":false},\"responsive_web_scroller_v3_enabled\":{\"value\":false},\"responsive_web_search_delay_prefetch_typeahead_results_enabled\":{\"value\":false},\"responsive_web_search_dms_enabled\":{\"value\":true},\"responsive_web_search_limit_user_typeahead_results\":{\"value\":10},\"responsive_web_search_reorder_typeahead_results_enabled\":{\"value\":false},\"responsive_web_second_degree_replies_nudge_force_enabled\":{\"value\":false},\"responsive_web_second_degree_replies_nudge_get_enabled\":{\"value\":false},\"responsive_web_second_degree_replies_nudge_show_enabled\":{\"value\":false},\"responsive_web_serviceworker_safari_disabled\":{\"value\":false},\"responsive_web_settings_revamp_enabled\":{\"value\":false},\"responsive_web_settings_timeline_polling_enabled\":{\"value\":false},\"responsive_web_settings_timeline_polling_interval_ms\":{\"value\":0},\"responsive_web_settings_timeline_refresh_background_interval\":{\"value\":0},\"responsive_web_settings_timeline_refresh_enabled\":{\"value\":false},\"responsive_web_settings_timeline_refresh_instant_default\":{\"value\":true},\"responsive_web_sidebar_ttf_enabled\":{\"value\":false},\"responsive_web_trends_setting_new_endpoints\":{\"value\":true},\"responsive_web_trigger_test_backoff_on_bookmark\":{\"value\":false},\"responsive_web_unsupported_entry_tombstone\":{\"value\":false},\"responsive_web_use_app_prompt_copy_variant\":{\"value\":\"\"},\"responsive_web_use_app_prompt_enabled\":{\"value\":false},\"responsive_web_video_pcomplete_enabled\":{\"value\":true},\"responsive_web_video_promoted_logging_enabled\":{\"value\":false},\"responsive_web_virtual_keyboard_detector\":{\"value\":false},\"responsive_web_vod_muted_captions_enabled\":{\"value\":true},\"responsive_web_vs_config_resize_observer_enabled\":{\"value\":true},\"responsive_web_zipkin_api_requests_enabled\":{\"value\":false},\"responsive_web_zipkin_api_requests_paths_allowlist\":{\"value\":[\"/2/timeline/home.json\"]},\"rito_smart_block_list_enabled\":{\"value\":false},\"scribe_api_error_sample_size\":{\"value\":0},\"scribe_api_sample_size\":{\"value\":100},\"scribe_cdn_host_list\":{\"value\":[\"si0.twimg.com\",\"si1.twimg.com\",\"si2.twimg.com\",\"si3.twimg.com\",\"a0.twimg.com\",\"a1.twimg.com\",\"a2.twimg.com\",\"a3.twimg.com\",\"abs.twimg.com\",\"amp.twimg.com\",\"o.twimg.com\",\"pbs.twimg.com\",\"pbs-eb.twimg.com\",\"pbs-ec.twimg.com\",\"pbs-v6.twimg.com\",\"pbs-h1.twimg.com\",\"pbs-h2.twimg.com\",\"video.twimg.com\",\"platform.twitter.com\",\"cdn.api.twitter.com\",\"ton.twimg.com\",\"v.cdn.vine.co\",\"mtc.cdn.vine.co\",\"edge.vncdn.co\",\"mid.vncdn.co\"]},\"scribe_cdn_sample_size\":{\"value\":50},\"scribe_web_nav\":{\"value\":false},\"scribe_web_nav_sample_size\":{\"value\":0},\"search_channels_description_enabled\":{\"value\":true},\"search_channels_discovery_page_enabled\":{\"value\":false},\"soft_interventions_like_nudge_enabled\":{\"value\":true},\"soft_interventions_nudge_backend_control_enabled\":{\"value\":true},\"soft_interventions_retweet_nudge_enabled\":{\"value\":true},\"soft_interventions_share_nudge_enabled\":{\"value\":true},\"stateful_login_enabled\":{\"value\":false},\"topic_icons_enabled\":{\"value\":false},\"topic_landing_page_enabled\":{\"value\":true},\"topic_landing_page_share_enabled\":{\"value\":true},\"topics_discovery_page_enabled\":{\"value\":false},\"topics_discovery_topic_picker_page_enabled\":{\"value\":true},\"topics_new_social_context_icon_color_enabled\":{\"value\":false},\"topics_peek_home_enabled\":{\"value\":false},\"topics_peek_search_enabled\":{\"value\":false},\"traffic_rewrite_map\":{\"value\":[]},\"tweet_limited_actions_config_enabled\":{\"value\":true},\"tweet_limited_actions_config_non_compliant\":{\"value\":[\"reply\",\"retweet\",\"like\",\"send_via_dm\",\"add_to_bookmarks\",\"add_to_moment\",\"pin_to_profile\",\"view_tweet_activity\",\"share_tweet_via\"]},\"unified_cards_cta_color_blue_cta\":{\"value\":true},\"user_display_name_max_limit\":{\"value\":50},\"voice_consumption_enabled\":{\"value\":false},\"voice_rooms_consumption_enabled\":{\"value\":false},\"voice_rooms_expanded_dock\":{\"value\":false},\"voice_rooms_scheduling_enabled\":{\"value\":false},\"web_video_bitrate_persistence_enabled\":{\"value\":false},\"web_video_hls_android_mse_enabled\":{\"value\":true},\"web_video_hls_mp4_threshold_sec\":{\"value\":0},\"web_video_hlsjs_version\":{\"value\":\"\"},\"web_video_prefetch_playlist_autoplay_disabled\":{\"value\":false},\"web_video_smart_buffering_enabled\":{\"value\":false},\"web_video_smart_buffering_preroll_prebuffering_enabled\":{\"value\":true}},\"featureSetToken\":\"270bafd5d27207c5967b100a299e6bfa95fb033f\",\"isLoaded\":true,\"isLoading\":false,\"user\":{\"config\":{\"2fa_multikey_management_enabled\":{\"value\":true},\"account_country_setting_countries_whitelist\":{\"value\":[\"ad\",\"ae\",\"af\",\"ag\",\"ai\",\"al\",\"am\",\"ao\",\"ar\",\"as\",\"at\",\"au\",\"aw\",\"ax\",\"az\",\"ba\",\"bb\",\"bd\",\"be\",\"bf\",\"bg\",\"bh\",\"bi\",\"bj\",\"bl\",\"bm\",\"bn\",\"bo\",\"bq\",\"br\",\"bs\",\"bt\",\"bv\",\"bw\",\"by\",\"bz\",\"ca\",\"cc\",\"cd\",\"cf\",\"cg\",\"ch\",\"ci\",\"ck\",\"cl\",\"cm\",\"co\",\"cr\",\"cu\",\"cv\",\"cw\",\"cx\",\"cy\",\"cz\",\"de\",\"dj\",\"dk\",\"dm\",\"do\",\"dz\",\"ec\",\"ee\",\"eg\",\"er\",\"es\",\"et\",\"fi\",\"fj\",\"fk\",\"fm\",\"fo\",\"fr\",\"ga\",\"gb\",\"gd\",\"ge\",\"gf\",\"gg\",\"gh\",\"gi\",\"gl\",\"gm\",\"gn\",\"gp\",\"gq\",\"gr\",\"gs\",\"gt\",\"gu\",\"gw\",\"gy\",\"hk\",\"hn\",\"hr\",\"ht\",\"hu\",\"id\",\"ie\",\"il\",\"im\",\"in\",\"io\",\"iq\",\"ir\",\"is\",\"it\",\"je\",\"jm\",\"jo\",\"jp\",\"ke\",\"kg\",\"kh\",\"ki\",\"km\",\"kn\",\"kr\",\"kw\",\"ky\",\"kz\",\"la\",\"lb\",\"lc\",\"li\",\"lk\",\"lr\",\"ls\",\"lt\",\"lu\",\"lv\",\"ly\",\"ma\",\"mc\",\"md\",\"me\",\"mf\",\"mg\",\"mh\",\"mk\",\"ml\",\"mn\",\"mo\",\"mp\",\"mq\",\"mr\",\"ms\",\"mt\",\"mu\",\"mv\",\"mw\",\"mx\",\"my\",\"mz\",\"na\",\"nc\",\"ne\",\"nf\",\"ng\",\"ni\",\"nl\",\"no\",\"np\",\"nr\",\"nu\",\"nz\",\"om\",\"pa\",\"pe\",\"pf\",\"pg\",\"ph\",\"pk\",\"pl\",\"pm\",\"pn\",\"pr\",\"ps\",\"pt\",\"pw\",\"py\",\"qa\",\"re\",\"ro\",\"rs\",\"ru\",\"rw\",\"sa\",\"sb\",\"sc\",\"se\",\"sg\",\"sh\",\"si\",\"sk\",\"sl\",\"sm\",\"sn\",\"so\",\"sr\",\"st\",\"sv\",\"sx\",\"sz\",\"tc\",\"td\",\"tf\",\"tg\",\"th\",\"tj\",\"tk\",\"tl\",\"tm\",\"tn\",\"to\",\"tr\",\"tt\",\"tv\",\"tw\",\"tz\",\"ua\",\"ug\",\"us\",\"uy\",\"uz\",\"va\",\"vc\",\"ve\",\"vi\",\"vn\",\"vu\",\"wf\",\"ws\",\"xk\",\"ye\",\"yt\",\"za\",\"zm\",\"zw\"]},\"account_session_console_from_graphql_enabled\":{\"value\":false},\"author_moderated_replies_urt_container_enabled\":{\"value\":false},\"business_profiles_rweb_onboarding_enabled\":{\"value\":false},\"c9s_enabled\":{\"value\":false},\"content_language_setting_enabled\":{\"value\":true},\"conversation_controls_flexible_participation_enabled\":{\"value\":false},\"conversation_controls_flexible_participation_reply_enabled\":{\"value\":true},\"conversation_controls_limited_replies_consumption_configuration\":{\"value\":\"no_reply\"},\"conversation_controls_limited_replies_creation_enabled\":{\"value\":true},\"conversation_controls_my_followers_enabled\":{\"value\":false},\"conversation_controls_notifying_participants_enabled\":{\"value\":true},\"dm_conversations_muted_list_enabled\":{\"value\":false},\"dm_conversations_muting_enabled\":{\"value\":false},\"dm_conversations_nsfw_media_filter_enabled\":{\"value\":false},\"dm_conversations_requests_inbox_actions_button_enabled\":{\"value\":false},\"dm_inbox_search_max_recent_searches_stored\":{\"value\":5},\"dm_reactions_config_active_reactions\":{\"value\":[\"\\xf0\\x9f\\x98\\x82:funny\",\"\\xf0\\x9f\\x98\\xb2:surprised\",\"\\xf0\\x9f\\x98\\xa2:sad\",\"\\xe2\\x9d\\xa4\\xef\\xb8\\x8f:like\",\"\\xf0\\x9f\\x94\\xa5:excited\",\"\\xf0\\x9f\\x91\\x8d:agree\",\"\\xf0\\x9f\\x91\\x8e:disagree\"]},\"dm_reactions_config_inactive_reactions\":{\"value\":[\"\\xf0\\x9f\\x98\\xa0:angry\",\"\\xf0\\x9f\\x98\\xb7:mask\"]},\"dm_voice_rendering_enabled\":{\"value\":true},\"employee_role\":{\"value\":false},\"enable_label_appealing_misinfo_enabled\":{\"value\":false},\"enable_label_appealing_sensitive_content_enabled\":{\"value\":false},\"explore_settings_trends_policy_url\":{\"value\":\"\"},\"graphql_mutation_favorite_mode\":{\"value\":\"rest_only\"},\"graphql_mutation_retweet_mode\":{\"value\":\"rest_only\"},\"graphql_mutation_unfavorite_mode\":{\"value\":\"rest_only\"},\"graphql_mutation_unretweet_mode\":{\"value\":\"rest_only\"},\"graphql_mutation_update_mode\":{\"value\":\"rest_only\"},\"guest_broadcasting_timeline_decorations_enabled\":{\"value\":true},\"hashflags_animation_like_button_enabled\":{\"value\":true},\"home_timeline_latest_timeline_autoswitch_half_life_minutes\":{\"value\":43200},\"home_timeline_latest_timeline_autoswitch_threshold_multiplier\":{\"value\":2},\"home_timeline_latest_timeline_max_time_to_autoswitch_minutes\":{\"value\":5256000},\"home_timeline_latest_timeline_min_time_to_autoswitch_minutes\":{\"value\":5256000},\"home_timeline_latest_timeline_switch_enabled\":{\"value\":true},\"home_timeline_latest_timeline_threshold_to_increase_autoswitch_seconds\":{\"value\":60},\"home_timeline_spheres_custom_banner_image_reads_enabled\":{\"value\":true},\"home_timeline_spheres_detail_page_muting_enabled\":{\"value\":true},\"home_timeline_spheres_list_cell_thumbnail_enabled\":{\"value\":true},\"home_timeline_spheres_max_user_owned_or_subscribed_lists_count\":{\"value\":5},\"home_timeline_spheres_ranking_mode_control_enabled\":{\"value\":true},\"identity_verification_debadging_notification_enabled\":{\"value\":true},\"identity_verification_educational_prompt_enabled\":{\"value\":true},\"identity_verification_intake_enabled\":{\"value\":false},\"list_management_page_urt_timeline_enabled\":{\"value\":true},\"live_event_docking_enabled\":{\"value\":true},\"live_event_multi_video_auto_advance_dock_enabled\":{\"value\":true},\"live_event_multi_video_auto_advance_enabled\":{\"value\":true},\"live_event_multi_video_auto_advance_fullscreen_enabled\":{\"value\":false},\"live_event_multi_video_auto_advance_transition_duration_seconds\":{\"value\":5},\"live_event_multi_video_enabled\":{\"value\":true},\"live_event_timeline_default_refresh_rate_interval_seconds\":{\"value\":30},\"live_event_timeline_minimum_refresh_rate_interval_seconds\":{\"value\":10},\"live_event_timeline_server_controlled_refresh_rate_enabled\":{\"value\":true},\"livepipeline_client_enabled\":{\"value\":true},\"livepipeline_dm_features_enabled\":{\"value\":true},\"livepipeline_tweetengagement_enabled\":{\"value\":true},\"moment_annotations_enabled\":{\"value\":true},\"network_layer_503_backoff_mode\":{\"value\":\"host\"},\"responsive_web_account_ownership_verification_enabled\":{\"value\":false},\"responsive_web_add_impression_id_to_mute_engagement_enabled\":{\"value\":true},\"responsive_web_alt_svc\":{\"value\":false},\"responsive_web_alt_text_badge_enabled\":{\"value\":false},\"responsive_web_api_transition_enabled\":{\"value\":true},\"responsive_web_article_nudge_enabled\":{\"value\":true},\"responsive_web_auto_logout_multiaccount_enabled\":{\"value\":true},\"responsive_web_auto_logout_restrictedauthtoken_enabled\":{\"value\":true},\"responsive_web_auto_logout_twid_enabled\":{\"value\":true},\"responsive_web_better_stateful_buttons_variant\":{\"value\":\"control\"},\"responsive_web_birdwatch_consumption_enabled\":{\"value\":false},\"responsive_web_birdwatch_contribution_enabled\":{\"value\":false},\"responsive_web_birdwatch_hcomp_user\":{\"value\":false},\"responsive_web_birdwatch_pivots_enabled\":{\"value\":false},\"responsive_web_birdwatch_site_enabled\":{\"value\":true},\"responsive_web_birdwatch_traffic_lights_enabled\":{\"value\":true},\"responsive_web_branch_cpid_enabled\":{\"value\":false},\"responsive_web_branch_sdk_enabled\":{\"value\":true},\"responsive_web_card_preload_mode\":{\"value\":false},\"responsive_web_carousel_v2_communities_enabled\":{\"value\":true},\"responsive_web_carousels_convert_to_single_media\":{\"value\":false},\"responsive_web_chirp_font_enabled\":{\"value\":false},\"responsive_web_cleanup_macaw_swift_indexed_db\":{\"value\":true},\"responsive_web_continue_as_always_enabled\":{\"value\":false},\"responsive_web_continue_as_param_enabled\":{\"value\":true},\"responsive_web_csrf_clientside_enabled\":{\"value\":true},\"responsive_web_dcm_2_enabled\":{\"value\":true},\"responsive_web_dm_quick_access_with_close_enabled\":{\"value\":false},\"responsive_web_dm_server_side_search\":{\"value\":false},\"responsive_web_eu_compliance_double_click_disabled\":{\"value\":false},\"responsive_web_eu_compliance_ga_disabled\":{\"value\":false},\"responsive_web_eu_compliance_player_card_disabled\":{\"value\":false},\"responsive_web_eu_compliance_sentry_disabled\":{\"value\":false},\"responsive_web_eu_countries\":{\"value\":[\"at\",\"be\",\"bg\",\"ch\",\"cy\",\"cz\",\"de\",\"dk\",\"ee\",\"es\",\"fi\",\"fr\",\"gb\",\"gr\",\"hr\",\"hu\",\"ie\",\"is\",\"it\",\"li\",\"lt\",\"lu\",\"lv\",\"mt\",\"nl\",\"no\",\"pl\",\"pt\",\"ro\",\"se\",\"si\",\"sk\"]},\"responsive_web_extension_compatibility_hide\":{\"value\":false},\"responsive_web_extension_compatibility_impression_guard\":{\"value\":true},\"responsive_web_extension_compatibility_override_param\":{\"value\":false},\"responsive_web_extension_compatibility_scribe\":{\"value\":true},\"responsive_web_extension_compatibility_size_threshold\":{\"value\":50},\"responsive_web_fake_root_twitter_domain_for_testing\":{\"value\":false},\"responsive_web_fetch_hashflags_on_boot\":{\"value\":true},\"responsive_web_fleets_bounding_boxes_enabled\":{\"value\":false},\"responsive_web_fleets_dm_consumption_enabled\":{\"value\":true},\"responsive_web_fleets_notification_screen_enabled\":{\"value\":false},\"responsive_web_fleets_viewer_screen_enabled\":{\"value\":true},\"responsive_web_fleets_viewer_threading_enabled\":{\"value\":false},\"responsive_web_framerate_tracking_home_enabled\":{\"value\":false},\"responsive_web_graphql_amr_timeline\":{\"value\":false},\"responsive_web_graphql_bookmarks\":{\"value\":true},\"responsive_web_graphql_conversations_enabled\":{\"value\":false},\"responsive_web_graphql_dark_reads_probability\":{\"value\":0},\"responsive_web_graphql_feedback\":{\"value\":true},\"responsive_web_graphql_home_enabled\":{\"value\":false},\"responsive_web_graphql_likes_timeline\":{\"value\":false},\"responsive_web_graphql_list_management_timelines_enabled\":{\"value\":false},\"responsive_web_graphql_media_timeline\":{\"value\":false},\"responsive_web_graphql_mutation_bookmarks\":{\"value\":true},\"responsive_web_graphql_non_legacy_card\":{\"value\":true},\"responsive_web_graphql_profile_timeline\":{\"value\":false},\"responsive_web_graphql_redux_module_users\":{\"value\":false},\"responsive_web_graphql_topic_timeline_enabled\":{\"value\":true},\"responsive_web_graphql_tweet_by_rest_id\":{\"value\":false},\"responsive_web_graphql_tweet_results\":{\"value\":false},\"responsive_web_graphql_user_profile_screen\":{\"value\":false},\"responsive_web_graphql_user_results\":{\"value\":false},\"responsive_web_graphql_users_by_rest_ids\":{\"value\":true},\"responsive_web_hoisting_anchor_invalidation_enabled\":{\"value\":false},\"responsive_web_hover_on_mousemove_enabled\":{\"value\":false},\"responsive_web_inline_login_box_enabled\":{\"value\":\"full\"},\"responsive_web_inline_reply_enabled\":{\"value\":false},\"responsive_web_inline_reply_with_fab_enabled\":{\"value\":false},\"responsive_web_install_banner_show_immediate\":{\"value\":false},\"responsive_web_instream_video_redesign_enabled\":{\"value\":true},\"responsive_web_instream_video_store_keyed\":{\"value\":false},\"responsive_web_left_nav_refresh_connect_enabled\":{\"value\":false},\"responsive_web_left_nav_refresh_topics_enabled\":{\"value\":false},\"responsive_web_linger_refactor_enabled\":{\"value\":false},\"responsive_web_list_hover_cards_enabled\":{\"value\":true},\"responsive_web_live_video_parity_periscope_auth_enabled\":{\"value\":false},\"responsive_web_login_input_type_email_enabled\":{\"value\":false},\"responsive_web_login_signup_sheet_app_install_cta_enabled\":{\"value\":true},\"responsive_web_lohp_refresh_enabled\":{\"value\":true},\"responsive_web_media_upload_limit_2g\":{\"value\":250},\"responsive_web_media_upload_limit_3g\":{\"value\":1500},\"responsive_web_media_upload_limit_slow_2g\":{\"value\":150},\"responsive_web_media_upload_md5_hashing_enabled\":{\"value\":false},\"responsive_web_media_upload_target_jpg_pixels_per_byte\":{\"value\":6},\"responsive_web_menu_section_divider_enabled\":{\"value\":false},\"responsive_web_modal_close_enabled\":{\"value\":true},\"responsive_web_moment_maker_annotations_enabled\":{\"value\":false},\"responsive_web_moment_maker_enabled\":{\"value\":false},\"responsive_web_moment_maker_promoted_tweets_enabled\":{\"value\":false},\"responsive_web_multiple_account_limit\":{\"value\":5},\"responsive_web_nav_visual_refresh_enabled\":{\"value\":false},\"responsive_web_new_client_events_enabled\":{\"value\":false},\"responsive_web_new_copy_security_key_2fa_enabled\":{\"value\":true},\"responsive_web_newsletters_callout_enabled\":{\"value\":true},\"responsive_web_newsletters_menu_enabled\":{\"value\":true},\"responsive_web_ntab_verified_mentions_vit_internal_dogfood\":{\"value\":false},\"responsive_web_oauth2_consent_flow_enabled\":{\"value\":false},\"responsive_web_ocf_lite_login_flow_enabled\":{\"value\":false},\"responsive_web_ocf_sms_autoverify_darkwrite\":{\"value\":false},\"responsive_web_ocf_sms_autoverify_enabled\":{\"value\":false},\"responsive_web_open_in_app_prompt_enabled\":{\"value\":false},\"responsive_web_prerolls_fullscreen_disabled_on_ios\":{\"value\":false},\"responsive_web_promoted_tweet_param_append_enabled\":{\"value\":true},\"responsive_web_promoted_tweet_url_rewrite_enabled\":{\"value\":false},\"responsive_web_quick_promote_enabled\":{\"value\":true},\"responsive_web_report_page_not_found\":{\"value\":false},\"responsive_web_rich_tweet_landing_enabled\":{\"value\":true},\"responsive_web_scroller_autopoll_enabled\":{\"value\":false},\"responsive_web_scroller_v3_enabled\":{\"value\":false},\"responsive_web_search_delay_prefetch_typeahead_results_enabled\":{\"value\":false},\"responsive_web_search_dms_enabled\":{\"value\":true},\"responsive_web_search_limit_user_typeahead_results\":{\"value\":10},\"responsive_web_search_reorder_typeahead_results_enabled\":{\"value\":false},\"responsive_web_second_degree_replies_nudge_force_enabled\":{\"value\":false},\"responsive_web_second_degree_replies_nudge_get_enabled\":{\"value\":false},\"responsive_web_second_degree_replies_nudge_show_enabled\":{\"value\":false},\"responsive_web_serviceworker_safari_disabled\":{\"value\":false},\"responsive_web_settings_revamp_enabled\":{\"value\":false},\"responsive_web_settings_timeline_polling_enabled\":{\"value\":false},\"responsive_web_settings_timeline_polling_interval_ms\":{\"value\":0},\"responsive_web_settings_timeline_refresh_background_interval\":{\"value\":0},\"responsive_web_settings_timeline_refresh_enabled\":{\"value\":false},\"responsive_web_settings_timeline_refresh_instant_default\":{\"value\":true},\"responsive_web_sidebar_ttf_enabled\":{\"value\":false},\"responsive_web_trends_setting_new_endpoints\":{\"value\":true},\"responsive_web_trigger_test_backoff_on_bookmark\":{\"value\":false},\"responsive_web_unsupported_entry_tombstone\":{\"value\":false},\"responsive_web_use_app_prompt_copy_variant\":{\"value\":\"\"},\"responsive_web_use_app_prompt_enabled\":{\"value\":false},\"responsive_web_video_pcomplete_enabled\":{\"value\":true},\"responsive_web_video_promoted_logging_enabled\":{\"value\":true},\"responsive_web_virtual_keyboard_detector\":{\"value\":false},\"responsive_web_vod_muted_captions_enabled\":{\"value\":true},\"responsive_web_vs_config_resize_observer_enabled\":{\"value\":true},\"responsive_web_zipkin_api_requests_enabled\":{\"value\":false},\"responsive_web_zipkin_api_requests_paths_allowlist\":{\"value\":[\"/2/timeline/home.json\"]},\"rito_smart_block_list_enabled\":{\"value\":false},\"scribe_api_error_sample_size\":{\"value\":0},\"scribe_api_sample_size\":{\"value\":100},\"scribe_cdn_host_list\":{\"value\":[\"si0.twimg.com\",\"si1.twimg.com\",\"si2.twimg.com\",\"si3.twimg.com\",\"a0.twimg.com\",\"a1.twimg.com\",\"a2.twimg.com\",\"a3.twimg.com\",\"abs.twimg.com\",\"amp.twimg.com\",\"o.twimg.com\",\"pbs.twimg.com\",\"pbs-eb.twimg.com\",\"pbs-ec.twimg.com\",\"pbs-v6.twimg.com\",\"pbs-h1.twimg.com\",\"pbs-h2.twimg.com\",\"video.twimg.com\",\"platform.twitter.com\",\"cdn.api.twitter.com\",\"ton.twimg.com\",\"v.cdn.vine.co\",\"mtc.cdn.vine.co\",\"edge.vncdn.co\",\"mid.vncdn.co\"]},\"scribe_cdn_sample_size\":{\"value\":50},\"scribe_web_nav\":{\"value\":false},\"scribe_web_nav_sample_size\":{\"value\":0},\"search_channels_description_enabled\":{\"value\":true},\"search_channels_discovery_page_enabled\":{\"value\":false},\"soft_interventions_like_nudge_enabled\":{\"value\":true},\"soft_interventions_nudge_backend_control_enabled\":{\"value\":true},\"soft_interventions_retweet_nudge_enabled\":{\"value\":true},\"soft_interventions_share_nudge_enabled\":{\"value\":true},\"stateful_login_enabled\":{\"value\":false},\"topic_icons_enabled\":{\"value\":false},\"topic_landing_page_enabled\":{\"value\":true},\"topic_landing_page_share_enabled\":{\"value\":true},\"topics_discovery_page_enabled\":{\"value\":false},\"topics_discovery_topic_picker_page_enabled\":{\"value\":true},\"topics_new_social_context_icon_color_enabled\":{\"value\":false},\"topics_peek_home_enabled\":{\"value\":false},\"topics_peek_search_enabled\":{\"value\":false},\"traffic_rewrite_map\":{\"value\":[]},\"tweet_limited_actions_config_enabled\":{\"value\":true},\"tweet_limited_actions_config_non_compliant\":{\"value\":[\"reply\",\"retweet\",\"like\",\"send_via_dm\",\"add_to_bookmarks\",\"add_to_moment\",\"pin_to_profile\",\"view_tweet_activity\",\"share_tweet_via\"]},\"unified_cards_cta_color_blue_cta\":{\"value\":true},\"user_display_name_max_limit\":{\"value\":50},\"voice_consumption_enabled\":{\"value\":false},\"voice_rooms_consumption_enabled\":{\"value\":false},\"voice_rooms_expanded_dock\":{\"value\":false},\"voice_rooms_scheduling_enabled\":{\"value\":false},\"web_video_bitrate_persistence_enabled\":{\"value\":false},\"web_video_hls_android_mse_enabled\":{\"value\":true},\"web_video_hls_mp4_threshold_sec\":{\"value\":0},\"web_video_hlsjs_version\":{\"value\":\"\"},\"web_video_prefetch_playlist_autoplay_disabled\":{\"value\":false},\"web_video_smart_buffering_enabled\":{\"value\":false},\"web_video_smart_buffering_preroll_prebuffering_enabled\":{\"value\":true},\"topics_grid_carousel_basic_pill_plus_disabled\":{\"value\":false}},\"impression_pointers\":{\"responsive_web_use_app_prompt_enabled\":[\"rweb_use_app_prompt_10556\"],\"responsive_web_use_app_prompt_copy_variant\":[\"rweb_use_app_prompt_10556\"]},\"impressions\":{\"rweb_use_app_prompt_10556\":{\"key\":\"rweb_use_app_prompt_10556\",\"bucket\":\"control\",\"version\":6}},\"keysRead\":{},\"settingsVersion\":\"820bb97d924c098218167d973a9a9ad4\"}},\"session\":{\"country\":\"US\",\"emailLiteLoginEligibility\":{\"fetchStatus\":\"none\"},\"guestId\":\"161949698586441588\",\"language\":\"en\",\"oneFactorLoginEligibility\":{\"fetchStatus\":\"none\"}},\"typeaheadUsers\":{\"fetchStatus\":\"none\",\"users\":{},\"denylist\":{},\"lastUpdated\":0,\"index\":{}},\"settings\":{\"local\":{\"nextPushCheckin\":0,\"shouldAutoPlayGif\":false,\"scale\":\"normal\",\"themeColor\":\"blue500\",\"highContrastEnabled\":false,\"themeBackground\":\"light\",\"loginPromptLastShown\":0,\"reducedMotionEnabled\":false,\"showTweetMediaDetailDrawer\":true,\"autoPollNewTweets\":false},\"remote\":{\"settings\":{\"display_sensitive_media\":false},\"fetchStatus\":\"none\"},\"dataSaver\":{\"dataSaverMode\":false},\"transient\":{\"dtabBarInfo\":{\"hide\":false},\"loginPromptShown\":false,\"lastViewedDmInboxPath\":\"/messages\",\"themeFocus\":\"\"}},\"devices\":{\"browserPush\":{\"fetchStatus\":\"none\",\"pushNotificationsPrompt\":{\"dismissed\":false,\"fetchStatus\":\"none\"},\"subscribed\":false,\"supported\":null},\"devices\":{\"data\":{\"emails\":[],\"phone_numbers\":[]},\"fetchStatus\":\"none\"},\"notificationSettings\":{\"push_settings\":{\"error\":null,\"fetchStatus\":\"none\"},\"push_settings_template\":{\"template\":{\"settings\":[]}},\"sms_settings\":{\"error\":null,\"fetchStatus\":\"none\"},\"sms_settings_template\":{\"template\":{\"settings\":[]}},\"checkin_time\":null}},\"audio\":{\"conversationLookup\":{}},\"teams\":{\"fetchStatus\":\"none\",\"teams\":{}},\"hashflags\":{\"fetchStatus\":\"none\",\"hashflags\":{}}};window.__META_DATA__={\"env\":\"prod\",\"isLoggedIn\":false,\"isRTL\":false,\"hasMultiAccountCookie\":false,\"uaParserTags\":[\"m2\",\"rweb_unsupported\",\"msw\"],\"serverDate\":1619496985928,\"sha\":\"0501fb6613a15a30f12c70a8263ac2555a3b7dc6\"};</script><script id=\"nonce-csp\" nonce=\"OGQ1ZmRkMzMtOTRmNS00OTQ4LWFkNzktOGZjNjdmZmQ5ZDdj\"></script><script type=\"text/javascript\" charset=\"utf-8\" nonce=\"OGQ1ZmRkMzMtOTRmNS00OTQ4LWFkNzktOGZjNjdmZmQ5ZDdj\">window.__SCRIPTS_LOADED__ = {};!function(e){function n(n){for(var o,r,i=n[0],l=n[1],c=n[2],m=0,s=[];m<i.length;m++)r=i[m],Object.prototype.hasOwnProperty.call(a,r)&&a[r]&&s.push(a[r][0]),a[r]=0;for(o in l)Object.prototype.hasOwnProperty.call(l,o)&&(e[o]=l[o]);for(u&&u(n);s.length;)s.shift()();return t.push.apply(t,c||[]),d()}function d(){for(var e,n=0;n<t.length;n++){for(var d=t[n],o=!0,i=1;i<d.length;i++){var l=d[i];0!==a[l]&&(o=!1)}o&&(t.splice(n--,1),e=r(r.s=d[0]))}return e}var o={},a={1:0},t=[];function r(n){if(o[n])return o[n].exports;var d=o[n]={i:n,l:!1,exports:{}};return e[n].call(d.exports,d,d.exports,r),d.l=!0,d.exports}r.e=function(e){var n=[],d=a[e];if(0!==d)if(d)n.push(d[2]);else{var o=new Promise((function(n,o){d=a[e]=[n,o]}));n.push(d[2]=o);var t,i=document.createElement(\"script\");i.charset=\"utf-8\",i.timeout=120,r.nc&&i.setAttribute(\"nonce\",r.nc),i.src=function(e){return r.p+\"\"+({0:\"sharedCore\",3:\"shared~loader.DMDrawer~bundle.Compose~bundle.RichTextCompose~bundle.ComposeMedia~bundle.DirectMessages~bundle\",4:\"shared~loader.DMDrawer~bundle.Compose~bundle.RichTextCompose~bundle.DirectMessages~bundle.DMRichTextCompose~b\",5:\"shared~bundle.ComposeMedia~bundle.DirectMessages~bundle.SettingsProfile~bundle.Ocf~bundle.UserLists\",6:\"shared~bundle.SettingsRevamp~ondemand.SettingsInternals~ondemand.SettingsRevamp~bundle.Settings~bundle.Settin\",7:\"shared~bundle.Compose~bundle.RichTextCompose~ondemand.ComposeScheduling~bundle.PlainTextCompose\",8:\"shared~bundle.MultiAccount~bundle.Login~bundle.LoggedOutHome~ondemand.IntentPrompt\",9:\"shared~bundle.SettingsRevamp~bundle.SettingsTransparency~bundle.Settings~ondemand.SettingsInternals\",10:\"shared~bundle.Birdwatch~bundle.Explore~bundle.Topics\",11:\"shared~bundle.Place~bundle.Search~bundle.QuoteTweetActivity\",12:\"shared~bundle.SettingsRevamp~bundle.AccountVerification~bundle.BadgeViolationsNotification\",13:\"shared~bundle.DMRichTextCompose~ondemand.RichText\",14:\"shared~bundle.Explore~loader.ExploreSidebar\",15:\"shared~bundle.Settings~bundle.Display\",16:\"shared~bundle.TopicPeek~bundle.Topics\",17:\"shared~bundle.TweetMediaDetail~bundle.UserAvatar\",18:\"shared~loader.AudioOnlyVideoPlayer~ondemand.InlinePlayer\",19:\"shared~loader.DashMenu~bundle.Account\",20:\"shared~loaders.video.VideoPlayerDefaultUI~loaders.video.VideoPlayerEventsUI\",21:\"shared~ondemand.EmojiPickerData~ondemand.EmojiPicker\",22:\"shared~ondemand.GraphQLModule~ondemand.UserProfileGraphQL\",23:\"shared~ondemand.SettingsRevamp~ondemand.SettingsInternals\",24:\"bundle.AboutThisAd\",25:\"bundle.Account\",27:\"bundle.AdvancedSearch\",28:\"bundle.AudioSpace\",29:\"bundle.BadgeViolationsNotification\",30:\"bundle.Birdwatch\",31:\"bundle.Bookmarks\",32:\"bundle.Collection\",33:\"bundle.Communities\",34:\"bundle.Compose\",35:\"bundle.ComposeMedia\",36:\"bundle.ConnectTab\",37:\"bundle.Conversation\",38:\"bundle.ConversationParticipants\",39:\"bundle.DMRichTextCompose\",40:\"bundle.DirectMessages\",41:\"bundle.Display\",42:\"bundle.Download\",43:\"bundle.Explore\",44:\"bundle.ExploreTopics\",45:\"bundle.FleetsNotification\",46:\"bundle.FollowerRequests\",47:\"bundle.GenericTimeline\",48:\"bundle.GifSearch\",49:\"bundle.HomeTimeline\",50:\"bundle.KeyboardShortcuts\",51:\"bundle.LiveEvent\",52:\"bundle.LoggedOutHome\",53:\"bundle.Login\",54:\"bundle.Logout\",55:\"bundle.Moment\",56:\"bundle.MomentMaker\",57:\"bundle.MultiAccount\",58:\"bundle.NetworkInstrument\",59:\"bundle.NewsLanding\",60:\"bundle.Newsletters\",61:\"bundle.NotMyAccount\",62:\"bundle.NotificationDetail\",63:\"bundle.Notifications\",64:\"bundle.OAuth\",65:\"bundle.Ocf\",66:\"bundle.Place\",67:\"bundle.PlainTextCompose\",68:\"bundle.ProfileRedirect\",69:\"bundle.QuoteTweetActivity\",70:\"bundle.Report\",71:\"bundle.RichTextCompose\",72:\"bundle.Search\",73:\"bundle.Settings\",74:\"bundle.SettingsBizProfile\",75:\"bundle.SettingsInternals\",76:\"bundle.SettingsProfile\",77:\"bundle.SettingsRevamp\",78:\"bundle.SettingsTransparency\",79:\"bundle.SmsLogin\",80:\"bundle.TopicPeek\",81:\"bundle.Topics\",82:\"bundle.Trends\",83:\"bundle.TweetActivity\",84:\"bundle.TweetMediaDetail\",85:\"bundle.TweetMediaTags\",86:\"bundle.Twitterversary\",87:\"bundle.UserAvatar\",88:\"bundle.UserFollowLists\",89:\"bundle.UserLists\",90:\"bundle.UserMoments\",91:\"bundle.UserProfile\",92:\"bundle.UserRedirect\",143:\"loader.AbsolutePower\",144:\"loader.AppModules\",145:\"loader.AudioOnlyVideoPlayer\",146:\"loader.DMDrawer\",147:\"loader.DashMenu\",148:\"loader.ExploreSidebar\",149:\"loader.FeedbackSheet\",150:\"loader.FeedbackTombstone\",151:\"loader.NewTweetsPill\",152:\"loader.ProfileClusterFollow\",153:\"loader.PushNotificationsPrompt\",154:\"loader.SideNav\",155:\"loader.SignupModule\",156:\"loader.TimelineRenderer\",157:\"loader.TweetCurationActionMenu\",158:\"loader.Typeahead\",159:\"loader.WideLayout\",160:\"loader.graphQLDarkReads\",161:\"loader.personalizationData\",162:\"loaders.video.PlayerHls13\",163:\"loaders.video.PlayerHls14\",164:\"loaders.video.VideoPlayerDefaultUI\",165:\"loaders.video.VideoPlayerEventsUI\",167:\"ondemand.Balloons\",168:\"ondemand.BranchSdk\",169:\"ondemand.CarouselScroller\",170:\"ondemand.ComposeScheduling\",171:\"ondemand.Dropdown\",172:\"ondemand.EditBirthdate\",173:\"ondemand.EditPinned\",174:\"ondemand.EmojiPicker\",175:\"ondemand.FleetMediaDetail\",176:\"ondemand.GraphQLModule\",177:\"ondemand.HoverCard\",178:\"ondemand.InlinePlayer\",179:\"ondemand.IntentPrompt\",180:\"ondemand.LottieWeb\",181:\"ondemand.MicrosoftInterface\",182:\"ondemand.ProfileSidebar\",183:\"ondemand.ReactBeautifulDnd\",184:\"ondemand.RichText\",185:\"ondemand.SettingsInternals\",186:\"ondemand.SettingsRevamp\",187:\"ondemand.UserProfileGraphQL\",188:\"ondemand.countries-ar\",189:\"ondemand.countries-bg\",190:\"ondemand.countries-bn\",191:\"ondemand.countries-ca\",192:\"ondemand.countries-cs\",193:\"ondemand.countries-da\",194:\"ondemand.countries-de\",195:\"ondemand.countries-el\",196:\"ondemand.countries-en\",197:\"ondemand.countries-en-GB\",198:\"ondemand.countries-es\",199:\"ondemand.countries-eu\",200:\"ondemand.countries-fa\",201:\"ondemand.countries-fi\",202:\"ondemand.countries-fil\",203:\"ondemand.countries-fr\",204:\"ondemand.countries-ga\",205:\"ondemand.countries-gl\",206:\"ondemand.countries-gu\",207:\"ondemand.countries-he\",208:\"ondemand.countries-hi\",209:\"ondemand.countries-hr\",210:\"ondemand.countries-hu\",211:\"ondemand.countries-id\",212:\"ondemand.countries-it\",213:\"ondemand.countries-ja\",214:\"ondemand.countries-kn\",215:\"ondemand.countries-ko\",216:\"ondemand.countries-mr\",217:\"ondemand.countries-ms\",218:\"ondemand.countries-nb\",219:\"ondemand.countries-nl\",220:\"ondemand.countries-pl\",221:\"ondemand.countries-pt\",222:\"ondemand.countries-ro\",223:\"ondemand.countries-ru\",224:\"ondemand.countries-sk\",225:\"ondemand.countries-sr\",2227:\"ondemand.countries-ta\",228:\"ondemand.countries-th\",229:\"ondemand.countries-tr\",230:\"ondemand.countries-uk\",231:\"ondemand.countries-ur\",232:\"ondemand.countries-zh\",233:\"ondemand.countries-zh-Hant\",234:\"ondemand.emoji.ar\",235:\"ondemand.emoji.ar-x-fm\",236:\"ondemand.emoji.bg\",237:\"ondemand.emoji.bn\",238:\"ondemand.emoji.ca\",239:\"ondemand.emoji.cs\",240:\"ondemand.emoji.da\",241:\"ondemand.emoji.de\",242:\"ondemand.emoji.el\",243:\"ondemand.emoji.en\",244:\"ondemand.emoji.en-GB\",245:\"ondemand.emoji.en-ss\",246:\"ondemand.emoji.en-xx\",247:\"ondemand.emoji.es\",248:\"ondemand.emoji.eu\",249:\"ondemand.emoji.fa\",250:\"ondemand.emoji.fi\",251:\"ondemand.emoji.fil\",252:\"ondemand.emoji.fr\",253:\"ondemand.emoji.ga\",254:\"ondemand.emoji.gl\",255:\"ondemand.emoji.gu\",256:\"ondemand.emoji.he\",257:\"ondemand.emoji.hi\",258:\"ondemand.emoji.hr\",259:\"ondemand.emoji.hu\",260:\"ondemand.emoji.id\",261:\"ondemand.emoji.it\",262:\"ondemand.emoji.ja\",263:\"ondemand.emoji.kn\",264:\"ondemand.emoji.ko\",265:\"ondemand.emoji.mr\",266:\"ondemand.emoji.ms\",267:\"ondemand.emoji.nb\",268:\"ondemand.emoji.nl\",269:\"ondemand.emoji.pl\",270:\"ondemand.emoji.pt\",271:\"ondemand.emoji.ro\",272:\"ondemand.emoji.ru\",273:\"ondemand.emoji.sk\",274:\"ondemand.emoji.sr\",275:\"ondemand.emoji.sv\",276:\"ondemand.emoji.ta\",277:\"ondemand.emoji.th\",278:\"ondemand.emoji.tr\",279:\"ondemand.emoji.uk\",280:\"ondemand.emoji.ur\",281:\"ondemand.emoji.vi\",282:\"ondemand.emoji.zh\",283:\"ondemand.emoji.zh-Hant\",284:\"ondemand.framerateTracking\"}[e]||e)+\".\"+{0:\"32cd5f8\",3:\"b923184\",4:\"530a767\",5:\"a744a03\",6:\"f95953f\",7:\"c81f41d\",8:\"1b6db28\",9:\"493e75a\",10:\"1d7a269\",11:\"8ecd67c\",12:\"239d738\",13:\"480129f\",14:\"3a660f0\",15:\"bc4cdde\",16:\"89f62f4\",17:\"2913d4f\",18:\"9c26293\",19:\"131a2b1\",20:\"d5c2bef\",21:\"d1138a3\",22:\"1a05353\",23:\"aff45ad\",24:\"8bcf16a\",25:\"6da1ef4\",27:\"80a1408\",28:\"3d5128a\",29:\"3ef6ab5\",30:\"7e178ac\",31:\"1fe5dd4\",32:\"6c1b9e6\",33:\"a4417d5\",34:\"c57c437\",35:\"6fa58e1\",36:\"eb4826c\",37:\"1534d8a\",38:\"8e55978\",39:\"3164129\",40:\"2daeae8\",41:\"81e1873\",42:\"1d26637\",43:\"3dc7de5\",44:\"51fcb1f\",45:\"0c31ba2\",46:\"982771b\",47:\"10aafef\",48:\"a122c1b\",49:\"74d3e5c\",50:\"1c2ddd4\",51:\"eeddd2b\",52:\"987d5df\",53:\"cef1edf\",54:\"9edfa24\",55:\"9f1d367\",56:\"5fc1d49\",57:\"41491c1\",58:\"fceaf67\",59:\"6d5952b\",60:\"325fd54\",61:\"78200df\",62:\"f1f1b52\",63:\"a71fa88\",64:\"296564a\",65:\"0a3bc42\",66:\"d9238e0\",67:\"811f55d\",68:\"377dccf\",69:\"f4e2162\",70:\"3be3263\",71:\"76560ae\",72:\"30a8240\",73:\"a45fb14\",74:\"987969f\",75:\"50509cb\",76:\"79b3312\",77:\"f05bc8a\",78:\"1763e00\",79:\"dbb8aea\",80:\"ed1b0cd\",81:\"567f9bd\",82:\"7619b08\",83:\"b6d7c4a\",84:\"ca44d31\",85:\"0089241\",86:\"f70d8e4\",87:\"d527337\",88:\"8dbbd78\",89:\"d452eae\",90:\"51734a7\",91:\"f5535c6\",92:\"6bcaddf\",143:\"f98f9f2\",144:\"033013d\",145:\"96b6208\",146:\"a8812f7\",147:\"69e5f73\",148:\"95a9fd9\",149:\"a7e1584\",150:\"584d0bd\",151:\"024d85d\",152:\"8ba750b\",153:\"2ac2f13\",154:\"e7dccbc\",155:\"b093b7f\",156:\"64e2bb9\",157:\"9ef9ca6\",158:\"335f1a0\",159:\"6d60fd6\",160:\"2744024\",161:\"6f1cd18\",162:\"29d83c6\",163:\"4ea58c2\",164:\"9c8b640\",165:\"ec081f7\",167:\"93b7295\",168:\"67302ec\",169:\"7dc73bb\",170:\"cf8f394\",171:\"a814731\",172:\"8e30d01\",173:\"4926c28\",174:\"3eed83a\",175:\"ab550fe\",176:\"fe50267\",177:\"cb2b654\",178:\"3b910d5\",179:\"29ed4dd\",180:\"75099ee\",181:\"439c9d1\",182:\"bcf570b\",183:\"2f314c7\",184:\"9675dd8\",185:\"398732c\",186:\"9141637\",187:\"8d90dd9\",188:\"bb91504\",189:\"60f9edd\",190:\"e830865\",191:\"28478b2\",192:\"05131d8\",193:\"249e314\",194:\"ba34c30\",195:\"6dd50bf\",196:\"5a837e2\",197:\"e94da79\",198:\"9a5d675\",199:\"1f3da77\",200:\"67837d9\",201:\"0c357ec\",202:\"9aae816\",203:\"716d591\",204:\"f2e3263\",205:\"f816041\",206:\"66202cb\",207:\"6e5a5f7\",208:\"cc1371c\",209:\"eb32fa0\",210:\"b448e58\",211:\"6dd6e9d\",212:\"cad8a93\",213:\"23a8681\",214:\"2143eb1\",215:\"794f480\",216:\"dfa200f\",217:\"de441fd\",218:\"0c7afd2\",219:\"eaa2711\",220:\"c80967b\",221:\"e80bfe6\",222:\"33eda0d\",223:\"b44dbcd\",224:\"886d537\",225:\"c4ff95b\",2227:\"211c08d\",228:\"0bf7c48\",229:\"e35a56a\",230:\"5b150fb\",231:\"4bb27cf\",232:\"de0b27c\",233:\"d44d01a\",234:\"4428b6b\",235:\"e19fa80\",236:\"5f9b159\",237:\"fb3f1e6\",238:\"372caf8\",239:\"285b9d5\",240:\"3957091\",241:\"0fbdb08\",242:\"3aecfb1\",243:\"ac23c23\",244:\"b90f350\",245:\"b787dde\",246:\"d2adedc\",247:\"1d04c70\",248:\"41a5886\",249:\"1f33a28\",250:\"d3aad79\",251:\"5fa591b\",252:\"7d5da67\",253:\"2fe025c\",254:\"06e69aa\",255:\"06edff4\",256:\"a193405\",257:\"6737be4\",258:\"03c0744\",259:\"f23c624\",260:\"2a47296\",261:\"909cd98\",262:\"740a8df\",263:\"c35f49d\",264:\"047532c\",265:\"61392e7\",266:\"b7e0c20\",267:\"f259ad2\",268:\"341fabb\",269:\"1ccf00b\",270:\"8dee1fc\",271:\"4e82ce1\",272:\"bcbb21e\",273:\"4d46932\",274:\"41f3ef7\",275:\"c451657\",276:\"9abb2c5\",277:\"7a3fbe6\",278:\"920fac6\",279:\"5e53f83\",280:\"69ec5c5\",281:\"5cc7006\",282:\"0067a47\",283:\"f44e0c8\",284:\"6826351\"}[e]+\"5.js\"}(e);var l=new Error;t=function(n){i.onerror=i.onload=null,clearTimeout(c);var d=a[e];if(0!==d){if(d){var o=n&&(\"load\"===n.type?\"missing\":n.type),t=n&&n.target&&n.target.src;l.message=\"Loading chunk \"+e+\" failed.\\\\n(\"+o+\": \"+t+\")\",l.name=\"ChunkLoadError\",l.type=o,l.request=t,d[1](l)}a[e]=void 0}};var c=setTimeout((function(){t({type:\"timeout\",target:i})}),12e4);i.onerror=i.onload=t,document.head.appendChild(i)}return Promise.all(n)},r.m=e,r.c=o,r.d=function(e,n,d){r.o(e,n)||Object.defineProperty(e,n,{enumerable:!0,get:d})},r.r=function(e){\"undefined\"!=typeof Symbol&&Symbol.toStringTag&&Object.defineProperty(e,Symbol.toStringTag,{value:\"Module\"}),Object.defineProperty(e,\"__esModule\",{value:!0})},r.t=function(e,n){if(1&n&&(e=r(e)),8&n)return e;if(4&n&&\"object\"==typeof e&&e&&e.__esModule)return e;var d=Object.create(null);if(r.r(d),Object.defineProperty(d,\"default\",{enumerable:!0,value:e}),2&n&&\"string\"!=typeof e)for(var o in e)r.d(d,o,function(n){return e[n]}.bind(null,o));return d},r.n=function(e){var n=e&&e.__esModule?function(){return e.default}:function(){return e};return r.d(n,\"a\",n),n},r.o=function(e,n){return Object.prototype.hasOwnProperty.call(e,n)},r.p=\"https://abs.twimg.com/responsive-web/client-web-legacy/\",r.oe=function(e){throw e};var i=window.webpackJsonp=window.webpackJsonp||[],l=i.push.bind(i);i.push=n,i=i.slice();for(var c=0;c<i.length;c++)n(i[c]);var u=l;d()}([]),window.__SCRIPTS_LOADED__.runtime=!0;\\n</script><script type=\"text/javascript\" charset=\"utf-8\" nonce=\"OGQ1ZmRkMzMtOTRmNS00OTQ4LWFkNzktOGZjNjdmZmQ5ZDdj\" crossorigin=\"anonymous\" src=\"https://abs.twimg.com/responsive-web/client-web-legacy/polyfills.2e934f25.js\"></script><script type=\"text/javascript\" charset=\"utf-8\" nonce=\"OGQ1ZmRkMzMtOTRmNS00OTQ4LWFkNzktOGZjNjdmZmQ5ZDdj\" crossorigin=\"anonymous\" src=\"https://abs.twimg.com/responsive-web/client-web-legacy/vendors~main.82025365.js\"></script><script type=\"text/javascript\" charset=\"utf-8\" nonce=\"OGQ1ZmRkMzMtOTRmNS00OTQ4LWFkNzktOGZjNjdmZmQ5ZDdj\" crossorigin=\"anonymous\" src=\"https://abs.twimg.com/responsive-web/client-web-legacy/i18n/en.7036be05.js\"></script><script type=\"text/javascript\" charset=\"utf-8\" nonce=\"OGQ1ZmRkMzMtOTRmNS00OTQ4LWFkNzktOGZjNjdmZmQ5ZDdj\" crossorigin=\"anonymous\" src=\"https://abs.twimg.com/responsive-web/client-web-legacy/main.ee7ea765.js\"></script><script nonce=\"OGQ1ZmRkMzMtOTRmNS00OTQ4LWFkNzktOGZjNjdmZmQ5ZDdj\">(function () {\\n  if (!window.__SCRIPTS_LOADED__[\\'main\\']) {\\n    document.getElementById(\\'ScriptLoadFailure\\').style.display = \\'block\\';\\n    var criticalScripts = [\"polyfills\",\"vendors~main\",\"i18n\",\"main\"];\\n    for (var i = 0; i < criticalScripts.length; i++) {\\n      var criticalScript = criticalScripts[i];\\n      if (!window.__SCRIPTS_LOADED__[criticalScript]) {\\n        document.getElementsByName(\\'failedScript\\')[0].value = criticalScript;\\n        break;\\n      }\\n    }\\n  }\\n})();</script><script nonce=\"OGQ1ZmRkMzMtOTRmNS00OTQ4LWFkNzktOGZjNjdmZmQ5ZDdj\">document.cookie = decodeURIComponent(\"gt=1386896996380798981; Max-Age=10800; Domain=.twitter.com; Path=/; Secure\");</script>'\n"
     ]
    }
   ],
   "source": [
    "#loop through each tweet id\n",
    "\n",
    "# https://twitter.com/evan_greer/status/#tweet_id\n",
    "# 1213084822521950209\n",
    "\n",
    "# https://twitter.com/liyaSileshi/status/1212766574337150976\n",
    "import urllib.request\n",
    "contents = urllib.request.urlopen(\"https://twitter.com/liyaSileshi/status/1212766574337150976\").read()\n",
    "print(contents)\n",
    "# for i in range(len(df_test)):\n",
    "#     print(https://twitter.com/liyaSileshi/status/df_test[\"tweet_id\"])"
   ]
  },
  {
   "cell_type": "code",
   "execution_count": 23,
   "metadata": {},
   "outputs": [
    {
     "name": "stdout",
     "output_type": "stream",
     "text": [
      "200\n",
      "{\n",
      "    \"data\": [\n",
      "        {\n",
      "            \"id\": \"1213764224356421633\",\n",
      "            \"text\": \"\\u1265/\\u1304 \\u12a0\\u1233\\u121d\\u1290\\u12cd \\u133d\\u130c \\u12a8\\u121d\\u12ad\\u1275\\u120d \\u1320/\\u121a \\u12f0\\u1218\\u1240 \\u130b\\u122d \\u1260\\u1231\\u12f3\\u1295 \\u1309\\u1265\\u129d\\u1275 \\u12a0\\u120d\\u1260\\u123d\\u122d \\u12eb\\u1209\\u1275\\u1295 \\u1208\\u1270\\u1218\\u1235\\u1308\\u1295 \\u12a5\\u1295\\u12f0\\u1290\\u1308\\u1228\\u12cd....\\n\\n\\u12a2\\u1275\\u12ee\\u1335\\u12eb \\u1208\\u12a5\\u129b \\u1325\\u1229 \\u130e\\u1228\\u1264\\u1273\\u127d\\u1295 \\u1293\\u1275\\u1364 \\u12a8\\u1205\\u12c8\\u1213\\u1275 \\u130b\\u122d \\u130d\\u1295 \\u1264\\u1270\\u1230\\u1265 \\u1290\\u1295\\u1362\"\n",
      "        },\n",
      "        {\n",
      "            \"id\": \"1255542774432063488\",\n",
      "            \"text\": \"During these unprecedented times, what\\u2019s happening on Twitter can help the world better understand &amp; respond to the pandemic. \\n\\nWe're launching a free COVID-19 stream endpoint so qualified devs &amp; researchers can study the public conversation in real-time. https://t.co/BPqMcQzhId\"\n",
      "        }\n",
      "    ]\n",
      "}\n"
     ]
    }
   ],
   "source": [
    "import requests\n",
    "import os\n",
    "import json\n",
    "\n",
    "# To set your enviornment variables in your terminal run the following line:\n",
    "# export 'BEARER_TOKEN'='<your_bearer_token>'\n",
    "\n",
    "def auth():\n",
    "#     return os.environ.get(\"BEARER_TOKEN\")\n",
    "    return \"AAAAAAAAAAAAAAAAAAAAAJbROwEAAAAA%2F2lbWwmk2SyWxd0StFqPCzSw2zw%3Dd9G7bKpnpPoI5BzZ4iUDBfJXCy9l5eSERPUALPElvQRJK1LfFO\"\n",
    "\n",
    "\n",
    "def create_url():\n",
    "    # Tweet fields are adjustable.\n",
    "    # Options include:\n",
    "    # attachments, author_id, context_annotations,\n",
    "    # conversation_id, created_at, entities, geo, id,\n",
    "    # in_reply_to_user_id, lang, non_public_metrics, organic_metrics,\n",
    "    # possibly_sensitive, promoted_metrics, public_metrics, referenced_tweets,\n",
    "    # source, text, and withheld\n",
    "    ids = \"ids=1213764224356421633,1255542774432063488\"\n",
    "    # You can adjust ids to include a single Tweets.\n",
    "    # Or you can add to up to 100 comma-separated IDs\n",
    "    url = \"https://api.twitter.com/2/tweets?{}\".format(ids)\n",
    "    return url\n",
    "\n",
    "\n",
    "def create_headers(bearer_token):\n",
    "    headers = {\"Authorization\": \"Bearer {}\".format(bearer_token)}\n",
    "    return headers\n",
    "\n",
    "\n",
    "def connect_to_endpoint(url, headers):\n",
    "    response = requests.request(\"GET\", url, headers=headers)\n",
    "    print(response.status_code)\n",
    "    if response.status_code != 200:\n",
    "        raise Exception(\n",
    "            \"Request returned an error: {} {}\".format(\n",
    "                response.status_code, response.text\n",
    "            )\n",
    "        )\n",
    "    return response.json()\n",
    "\n",
    "\n",
    "def main():\n",
    "    bearer_token = auth()\n",
    "    url = create_url()\n",
    "    headers = create_headers(bearer_token)\n",
    "    json_response = connect_to_endpoint(url, headers)\n",
    "    print(json.dumps(json_response, indent=4, sort_keys=True))\n",
    "\n",
    "\n",
    "if __name__ == \"__main__\":\n",
    "    main()"
   ]
  },
  {
   "cell_type": "code",
   "execution_count": null,
   "metadata": {},
   "outputs": [],
   "source": []
  }
 ],
 "metadata": {
  "kernelspec": {
   "display_name": "Python 3",
   "language": "python",
   "name": "python3"
  },
  "language_info": {
   "codemirror_mode": {
    "name": "ipython",
    "version": 3
   },
   "file_extension": ".py",
   "mimetype": "text/x-python",
   "name": "python",
   "nbconvert_exporter": "python",
   "pygments_lexer": "ipython3",
   "version": "3.8.5"
  }
 },
 "nbformat": 4,
 "nbformat_minor": 4
}
